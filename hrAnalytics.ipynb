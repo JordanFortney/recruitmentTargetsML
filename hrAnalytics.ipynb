{
 "cells": [
  {
   "cell_type": "markdown",
   "metadata": {},
   "source": [
    "* Introduction\n",
    "    * Problem Statement\n",
    "    * Goal\n",
    "    * Data Dictionary\n",
    "* Import Libraries\n",
    "* Read in data / Inspection\n",
    "* Data Cleaning\n",
    "    * Nulls\n",
    "    * Segregate cat and num columns\n",
    "    * Treat Nulls\n",
    "* EDA\n",
    "    * Graphs: target 0:1\n",
    "        * cat columns - univariate analysis\n",
    "        * distribution of num columns - dist plot\n",
    "        * Outliers of num columns - box plots\n",
    "    * Treat Outliers\n",
    "* Data Prep\n",
    "    * Convert binary categories to 0:1\n",
    "    * Get Dummies\n",
    "    * SMOTE re-sampling\n",
    "    * Correlation Inspection\n",
    "        * Heat Map\n",
    "        * List variables and correlations - sort\n",
    "    * Feature Scaling - standardize numeric columns\n",
    "    * RFECV <-------------------Do this\n",
    "* *Iterate for multiple types of models: Logistic Regression, SVC, KNN, Decision Tree, Random Forrest\n",
    "    * Model Building\n",
    "        * Build Functions\n",
    "        * Run model and iterate to manually remove feature with:\n",
    "            * high P\n",
    "            * high VIF (3-5 +)\n",
    "            * High negative coef\n",
    "        * score with skearnLogit\n",
    "    * Model Evaluation - I don't know how to do this\n",
    "        * Confusion Matrix\n",
    "        * Generate prediction percent from test data ?\n",
    "        * ROC ?\n",
    "        * Calculate cutoff ?\n",
    "        * Precision, Recall, F1 score ?\n",
    "* Conclusions\n",
    "    *  Features / Predictors\n",
    "    * Summary\n",
    "    * Next Steps ?"
   ]
  },
  {
   "cell_type": "code",
   "execution_count": 87,
   "metadata": {},
   "outputs": [],
   "source": [
    "import pandas as pd\n",
    "import numpy as np\n",
    "import seaborn as sns\n",
    "import time\n",
    "import matplotlib.pyplot as plt\n",
    "import statsmodels.api as sm\n",
    "from statsmodels.stats.outliers_influence import variance_inflation_factor\n",
    "from imblearn.over_sampling import SMOTE\n",
    "from sklearn.preprocessing import StandardScaler\n",
    "from imblearn.under_sampling import RandomUnderSampler \n",
    "from sklearn.feature_selection import RFECV\n",
    "from sklearn.svm import SVR\n",
    "from sklearn.linear_model import LogisticRegression\n",
    "from sklearn.linear_model import LogisticRegressionCV\n",
    "from sklearn.model_selection import train_test_split\n",
    "from sklearn.svm import SVC\n",
    "from sklearn.neighbors import KNeighborsClassifier\n",
    "from sklearn.metrics import accuracy_score\n",
    "import joblib\n",
    "import os.path\n",
    "\n",
    "import warnings\n",
    "warnings.filterwarnings('ignore')"
   ]
  },
  {
   "cell_type": "code",
   "execution_count": 2,
   "metadata": {},
   "outputs": [
    {
     "data": {
      "text/html": [
       "<div>\n",
       "<style scoped>\n",
       "    .dataframe tbody tr th:only-of-type {\n",
       "        vertical-align: middle;\n",
       "    }\n",
       "\n",
       "    .dataframe tbody tr th {\n",
       "        vertical-align: top;\n",
       "    }\n",
       "\n",
       "    .dataframe thead th {\n",
       "        text-align: right;\n",
       "    }\n",
       "</style>\n",
       "<table border=\"1\" class=\"dataframe\">\n",
       "  <thead>\n",
       "    <tr style=\"text-align: right;\">\n",
       "      <th></th>\n",
       "      <th>enrollee_id</th>\n",
       "      <th>city</th>\n",
       "      <th>city_development_index</th>\n",
       "      <th>gender</th>\n",
       "      <th>relevent_experience</th>\n",
       "      <th>enrolled_university</th>\n",
       "      <th>education_level</th>\n",
       "      <th>major_discipline</th>\n",
       "      <th>experience</th>\n",
       "      <th>company_size</th>\n",
       "      <th>company_type</th>\n",
       "      <th>last_new_job</th>\n",
       "      <th>training_hours</th>\n",
       "      <th>target</th>\n",
       "    </tr>\n",
       "  </thead>\n",
       "  <tbody>\n",
       "    <tr>\n",
       "      <th>0</th>\n",
       "      <td>8949</td>\n",
       "      <td>city_103</td>\n",
       "      <td>0.920</td>\n",
       "      <td>Male</td>\n",
       "      <td>Has relevent experience</td>\n",
       "      <td>no_enrollment</td>\n",
       "      <td>Graduate</td>\n",
       "      <td>STEM</td>\n",
       "      <td>&gt;20</td>\n",
       "      <td>NaN</td>\n",
       "      <td>NaN</td>\n",
       "      <td>1</td>\n",
       "      <td>36</td>\n",
       "      <td>1.0</td>\n",
       "    </tr>\n",
       "    <tr>\n",
       "      <th>1</th>\n",
       "      <td>29725</td>\n",
       "      <td>city_40</td>\n",
       "      <td>0.776</td>\n",
       "      <td>Male</td>\n",
       "      <td>No relevent experience</td>\n",
       "      <td>no_enrollment</td>\n",
       "      <td>Graduate</td>\n",
       "      <td>STEM</td>\n",
       "      <td>15</td>\n",
       "      <td>50-99</td>\n",
       "      <td>Pvt Ltd</td>\n",
       "      <td>&gt;4</td>\n",
       "      <td>47</td>\n",
       "      <td>0.0</td>\n",
       "    </tr>\n",
       "    <tr>\n",
       "      <th>2</th>\n",
       "      <td>11561</td>\n",
       "      <td>city_21</td>\n",
       "      <td>0.624</td>\n",
       "      <td>NaN</td>\n",
       "      <td>No relevent experience</td>\n",
       "      <td>Full time course</td>\n",
       "      <td>Graduate</td>\n",
       "      <td>STEM</td>\n",
       "      <td>5</td>\n",
       "      <td>NaN</td>\n",
       "      <td>NaN</td>\n",
       "      <td>never</td>\n",
       "      <td>83</td>\n",
       "      <td>0.0</td>\n",
       "    </tr>\n",
       "    <tr>\n",
       "      <th>3</th>\n",
       "      <td>33241</td>\n",
       "      <td>city_115</td>\n",
       "      <td>0.789</td>\n",
       "      <td>NaN</td>\n",
       "      <td>No relevent experience</td>\n",
       "      <td>NaN</td>\n",
       "      <td>Graduate</td>\n",
       "      <td>Business Degree</td>\n",
       "      <td>&lt;1</td>\n",
       "      <td>NaN</td>\n",
       "      <td>Pvt Ltd</td>\n",
       "      <td>never</td>\n",
       "      <td>52</td>\n",
       "      <td>1.0</td>\n",
       "    </tr>\n",
       "    <tr>\n",
       "      <th>4</th>\n",
       "      <td>666</td>\n",
       "      <td>city_162</td>\n",
       "      <td>0.767</td>\n",
       "      <td>Male</td>\n",
       "      <td>Has relevent experience</td>\n",
       "      <td>no_enrollment</td>\n",
       "      <td>Masters</td>\n",
       "      <td>STEM</td>\n",
       "      <td>&gt;20</td>\n",
       "      <td>50-99</td>\n",
       "      <td>Funded Startup</td>\n",
       "      <td>4</td>\n",
       "      <td>8</td>\n",
       "      <td>0.0</td>\n",
       "    </tr>\n",
       "    <tr>\n",
       "      <th>...</th>\n",
       "      <td>...</td>\n",
       "      <td>...</td>\n",
       "      <td>...</td>\n",
       "      <td>...</td>\n",
       "      <td>...</td>\n",
       "      <td>...</td>\n",
       "      <td>...</td>\n",
       "      <td>...</td>\n",
       "      <td>...</td>\n",
       "      <td>...</td>\n",
       "      <td>...</td>\n",
       "      <td>...</td>\n",
       "      <td>...</td>\n",
       "      <td>...</td>\n",
       "    </tr>\n",
       "    <tr>\n",
       "      <th>19153</th>\n",
       "      <td>7386</td>\n",
       "      <td>city_173</td>\n",
       "      <td>0.878</td>\n",
       "      <td>Male</td>\n",
       "      <td>No relevent experience</td>\n",
       "      <td>no_enrollment</td>\n",
       "      <td>Graduate</td>\n",
       "      <td>Humanities</td>\n",
       "      <td>14</td>\n",
       "      <td>NaN</td>\n",
       "      <td>NaN</td>\n",
       "      <td>1</td>\n",
       "      <td>42</td>\n",
       "      <td>1.0</td>\n",
       "    </tr>\n",
       "    <tr>\n",
       "      <th>19154</th>\n",
       "      <td>31398</td>\n",
       "      <td>city_103</td>\n",
       "      <td>0.920</td>\n",
       "      <td>Male</td>\n",
       "      <td>Has relevent experience</td>\n",
       "      <td>no_enrollment</td>\n",
       "      <td>Graduate</td>\n",
       "      <td>STEM</td>\n",
       "      <td>14</td>\n",
       "      <td>NaN</td>\n",
       "      <td>NaN</td>\n",
       "      <td>4</td>\n",
       "      <td>52</td>\n",
       "      <td>1.0</td>\n",
       "    </tr>\n",
       "    <tr>\n",
       "      <th>19155</th>\n",
       "      <td>24576</td>\n",
       "      <td>city_103</td>\n",
       "      <td>0.920</td>\n",
       "      <td>Male</td>\n",
       "      <td>Has relevent experience</td>\n",
       "      <td>no_enrollment</td>\n",
       "      <td>Graduate</td>\n",
       "      <td>STEM</td>\n",
       "      <td>&gt;20</td>\n",
       "      <td>50-99</td>\n",
       "      <td>Pvt Ltd</td>\n",
       "      <td>4</td>\n",
       "      <td>44</td>\n",
       "      <td>0.0</td>\n",
       "    </tr>\n",
       "    <tr>\n",
       "      <th>19156</th>\n",
       "      <td>5756</td>\n",
       "      <td>city_65</td>\n",
       "      <td>0.802</td>\n",
       "      <td>Male</td>\n",
       "      <td>Has relevent experience</td>\n",
       "      <td>no_enrollment</td>\n",
       "      <td>High School</td>\n",
       "      <td>NaN</td>\n",
       "      <td>&lt;1</td>\n",
       "      <td>500-999</td>\n",
       "      <td>Pvt Ltd</td>\n",
       "      <td>2</td>\n",
       "      <td>97</td>\n",
       "      <td>0.0</td>\n",
       "    </tr>\n",
       "    <tr>\n",
       "      <th>19157</th>\n",
       "      <td>23834</td>\n",
       "      <td>city_67</td>\n",
       "      <td>0.855</td>\n",
       "      <td>NaN</td>\n",
       "      <td>No relevent experience</td>\n",
       "      <td>no_enrollment</td>\n",
       "      <td>Primary School</td>\n",
       "      <td>NaN</td>\n",
       "      <td>2</td>\n",
       "      <td>NaN</td>\n",
       "      <td>NaN</td>\n",
       "      <td>1</td>\n",
       "      <td>127</td>\n",
       "      <td>0.0</td>\n",
       "    </tr>\n",
       "  </tbody>\n",
       "</table>\n",
       "<p>19158 rows × 14 columns</p>\n",
       "</div>"
      ],
      "text/plain": [
       "       enrollee_id      city  city_development_index gender  \\\n",
       "0             8949  city_103                   0.920   Male   \n",
       "1            29725   city_40                   0.776   Male   \n",
       "2            11561   city_21                   0.624    NaN   \n",
       "3            33241  city_115                   0.789    NaN   \n",
       "4              666  city_162                   0.767   Male   \n",
       "...            ...       ...                     ...    ...   \n",
       "19153         7386  city_173                   0.878   Male   \n",
       "19154        31398  city_103                   0.920   Male   \n",
       "19155        24576  city_103                   0.920   Male   \n",
       "19156         5756   city_65                   0.802   Male   \n",
       "19157        23834   city_67                   0.855    NaN   \n",
       "\n",
       "           relevent_experience enrolled_university education_level  \\\n",
       "0      Has relevent experience       no_enrollment        Graduate   \n",
       "1       No relevent experience       no_enrollment        Graduate   \n",
       "2       No relevent experience    Full time course        Graduate   \n",
       "3       No relevent experience                 NaN        Graduate   \n",
       "4      Has relevent experience       no_enrollment         Masters   \n",
       "...                        ...                 ...             ...   \n",
       "19153   No relevent experience       no_enrollment        Graduate   \n",
       "19154  Has relevent experience       no_enrollment        Graduate   \n",
       "19155  Has relevent experience       no_enrollment        Graduate   \n",
       "19156  Has relevent experience       no_enrollment     High School   \n",
       "19157   No relevent experience       no_enrollment  Primary School   \n",
       "\n",
       "      major_discipline experience company_size    company_type last_new_job  \\\n",
       "0                 STEM        >20          NaN             NaN            1   \n",
       "1                 STEM         15        50-99         Pvt Ltd           >4   \n",
       "2                 STEM          5          NaN             NaN        never   \n",
       "3      Business Degree         <1          NaN         Pvt Ltd        never   \n",
       "4                 STEM        >20        50-99  Funded Startup            4   \n",
       "...                ...        ...          ...             ...          ...   \n",
       "19153       Humanities         14          NaN             NaN            1   \n",
       "19154             STEM         14          NaN             NaN            4   \n",
       "19155             STEM        >20        50-99         Pvt Ltd            4   \n",
       "19156              NaN         <1      500-999         Pvt Ltd            2   \n",
       "19157              NaN          2          NaN             NaN            1   \n",
       "\n",
       "       training_hours  target  \n",
       "0                  36     1.0  \n",
       "1                  47     0.0  \n",
       "2                  83     0.0  \n",
       "3                  52     1.0  \n",
       "4                   8     0.0  \n",
       "...               ...     ...  \n",
       "19153              42     1.0  \n",
       "19154              52     1.0  \n",
       "19155              44     0.0  \n",
       "19156              97     0.0  \n",
       "19157             127     0.0  \n",
       "\n",
       "[19158 rows x 14 columns]"
      ]
     },
     "execution_count": 2,
     "metadata": {},
     "output_type": "execute_result"
    }
   ],
   "source": [
    "hrTrain = pd.read_csv('aug_train.csv')\n",
    "hrTrain"
   ]
  },
  {
   "cell_type": "code",
   "execution_count": 3,
   "metadata": {},
   "outputs": [
    {
     "data": {
      "text/html": [
       "<div>\n",
       "<style scoped>\n",
       "    .dataframe tbody tr th:only-of-type {\n",
       "        vertical-align: middle;\n",
       "    }\n",
       "\n",
       "    .dataframe tbody tr th {\n",
       "        vertical-align: top;\n",
       "    }\n",
       "\n",
       "    .dataframe thead th {\n",
       "        text-align: right;\n",
       "    }\n",
       "</style>\n",
       "<table border=\"1\" class=\"dataframe\">\n",
       "  <thead>\n",
       "    <tr style=\"text-align: right;\">\n",
       "      <th></th>\n",
       "      <th>enrollee_id</th>\n",
       "      <th>city</th>\n",
       "      <th>city_development_index</th>\n",
       "      <th>gender</th>\n",
       "      <th>relevent_experience</th>\n",
       "      <th>enrolled_university</th>\n",
       "      <th>education_level</th>\n",
       "      <th>major_discipline</th>\n",
       "      <th>experience</th>\n",
       "      <th>company_size</th>\n",
       "      <th>company_type</th>\n",
       "      <th>last_new_job</th>\n",
       "      <th>training_hours</th>\n",
       "    </tr>\n",
       "  </thead>\n",
       "  <tbody>\n",
       "    <tr>\n",
       "      <th>0</th>\n",
       "      <td>32403</td>\n",
       "      <td>city_41</td>\n",
       "      <td>0.827</td>\n",
       "      <td>Male</td>\n",
       "      <td>Has relevent experience</td>\n",
       "      <td>Full time course</td>\n",
       "      <td>Graduate</td>\n",
       "      <td>STEM</td>\n",
       "      <td>9</td>\n",
       "      <td>&lt;10</td>\n",
       "      <td>NaN</td>\n",
       "      <td>1</td>\n",
       "      <td>21</td>\n",
       "    </tr>\n",
       "    <tr>\n",
       "      <th>1</th>\n",
       "      <td>9858</td>\n",
       "      <td>city_103</td>\n",
       "      <td>0.920</td>\n",
       "      <td>Female</td>\n",
       "      <td>Has relevent experience</td>\n",
       "      <td>no_enrollment</td>\n",
       "      <td>Graduate</td>\n",
       "      <td>STEM</td>\n",
       "      <td>5</td>\n",
       "      <td>NaN</td>\n",
       "      <td>Pvt Ltd</td>\n",
       "      <td>1</td>\n",
       "      <td>98</td>\n",
       "    </tr>\n",
       "    <tr>\n",
       "      <th>2</th>\n",
       "      <td>31806</td>\n",
       "      <td>city_21</td>\n",
       "      <td>0.624</td>\n",
       "      <td>Male</td>\n",
       "      <td>No relevent experience</td>\n",
       "      <td>no_enrollment</td>\n",
       "      <td>High School</td>\n",
       "      <td>NaN</td>\n",
       "      <td>&lt;1</td>\n",
       "      <td>NaN</td>\n",
       "      <td>Pvt Ltd</td>\n",
       "      <td>never</td>\n",
       "      <td>15</td>\n",
       "    </tr>\n",
       "    <tr>\n",
       "      <th>3</th>\n",
       "      <td>27385</td>\n",
       "      <td>city_13</td>\n",
       "      <td>0.827</td>\n",
       "      <td>Male</td>\n",
       "      <td>Has relevent experience</td>\n",
       "      <td>no_enrollment</td>\n",
       "      <td>Masters</td>\n",
       "      <td>STEM</td>\n",
       "      <td>11</td>\n",
       "      <td>10/49</td>\n",
       "      <td>Pvt Ltd</td>\n",
       "      <td>1</td>\n",
       "      <td>39</td>\n",
       "    </tr>\n",
       "    <tr>\n",
       "      <th>4</th>\n",
       "      <td>27724</td>\n",
       "      <td>city_103</td>\n",
       "      <td>0.920</td>\n",
       "      <td>Male</td>\n",
       "      <td>Has relevent experience</td>\n",
       "      <td>no_enrollment</td>\n",
       "      <td>Graduate</td>\n",
       "      <td>STEM</td>\n",
       "      <td>&gt;20</td>\n",
       "      <td>10000+</td>\n",
       "      <td>Pvt Ltd</td>\n",
       "      <td>&gt;4</td>\n",
       "      <td>72</td>\n",
       "    </tr>\n",
       "    <tr>\n",
       "      <th>...</th>\n",
       "      <td>...</td>\n",
       "      <td>...</td>\n",
       "      <td>...</td>\n",
       "      <td>...</td>\n",
       "      <td>...</td>\n",
       "      <td>...</td>\n",
       "      <td>...</td>\n",
       "      <td>...</td>\n",
       "      <td>...</td>\n",
       "      <td>...</td>\n",
       "      <td>...</td>\n",
       "      <td>...</td>\n",
       "      <td>...</td>\n",
       "    </tr>\n",
       "    <tr>\n",
       "      <th>2124</th>\n",
       "      <td>1289</td>\n",
       "      <td>city_103</td>\n",
       "      <td>0.920</td>\n",
       "      <td>Male</td>\n",
       "      <td>No relevent experience</td>\n",
       "      <td>no_enrollment</td>\n",
       "      <td>Graduate</td>\n",
       "      <td>Humanities</td>\n",
       "      <td>16</td>\n",
       "      <td>NaN</td>\n",
       "      <td>Public Sector</td>\n",
       "      <td>4</td>\n",
       "      <td>15</td>\n",
       "    </tr>\n",
       "    <tr>\n",
       "      <th>2125</th>\n",
       "      <td>195</td>\n",
       "      <td>city_136</td>\n",
       "      <td>0.897</td>\n",
       "      <td>Male</td>\n",
       "      <td>Has relevent experience</td>\n",
       "      <td>no_enrollment</td>\n",
       "      <td>Masters</td>\n",
       "      <td>STEM</td>\n",
       "      <td>18</td>\n",
       "      <td>NaN</td>\n",
       "      <td>NaN</td>\n",
       "      <td>2</td>\n",
       "      <td>30</td>\n",
       "    </tr>\n",
       "    <tr>\n",
       "      <th>2126</th>\n",
       "      <td>31762</td>\n",
       "      <td>city_100</td>\n",
       "      <td>0.887</td>\n",
       "      <td>Male</td>\n",
       "      <td>No relevent experience</td>\n",
       "      <td>no_enrollment</td>\n",
       "      <td>Primary School</td>\n",
       "      <td>NaN</td>\n",
       "      <td>3</td>\n",
       "      <td>NaN</td>\n",
       "      <td>Pvt Ltd</td>\n",
       "      <td>never</td>\n",
       "      <td>18</td>\n",
       "    </tr>\n",
       "    <tr>\n",
       "      <th>2127</th>\n",
       "      <td>7873</td>\n",
       "      <td>city_102</td>\n",
       "      <td>0.804</td>\n",
       "      <td>Male</td>\n",
       "      <td>Has relevent experience</td>\n",
       "      <td>Full time course</td>\n",
       "      <td>High School</td>\n",
       "      <td>NaN</td>\n",
       "      <td>7</td>\n",
       "      <td>100-500</td>\n",
       "      <td>Public Sector</td>\n",
       "      <td>1</td>\n",
       "      <td>84</td>\n",
       "    </tr>\n",
       "    <tr>\n",
       "      <th>2128</th>\n",
       "      <td>12215</td>\n",
       "      <td>city_102</td>\n",
       "      <td>0.804</td>\n",
       "      <td>Male</td>\n",
       "      <td>Has relevent experience</td>\n",
       "      <td>no_enrollment</td>\n",
       "      <td>Masters</td>\n",
       "      <td>STEM</td>\n",
       "      <td>15</td>\n",
       "      <td>10000+</td>\n",
       "      <td>Pvt Ltd</td>\n",
       "      <td>2</td>\n",
       "      <td>11</td>\n",
       "    </tr>\n",
       "  </tbody>\n",
       "</table>\n",
       "<p>2129 rows × 13 columns</p>\n",
       "</div>"
      ],
      "text/plain": [
       "      enrollee_id      city  city_development_index  gender  \\\n",
       "0           32403   city_41                   0.827    Male   \n",
       "1            9858  city_103                   0.920  Female   \n",
       "2           31806   city_21                   0.624    Male   \n",
       "3           27385   city_13                   0.827    Male   \n",
       "4           27724  city_103                   0.920    Male   \n",
       "...           ...       ...                     ...     ...   \n",
       "2124         1289  city_103                   0.920    Male   \n",
       "2125          195  city_136                   0.897    Male   \n",
       "2126        31762  city_100                   0.887    Male   \n",
       "2127         7873  city_102                   0.804    Male   \n",
       "2128        12215  city_102                   0.804    Male   \n",
       "\n",
       "          relevent_experience enrolled_university education_level  \\\n",
       "0     Has relevent experience    Full time course        Graduate   \n",
       "1     Has relevent experience       no_enrollment        Graduate   \n",
       "2      No relevent experience       no_enrollment     High School   \n",
       "3     Has relevent experience       no_enrollment         Masters   \n",
       "4     Has relevent experience       no_enrollment        Graduate   \n",
       "...                       ...                 ...             ...   \n",
       "2124   No relevent experience       no_enrollment        Graduate   \n",
       "2125  Has relevent experience       no_enrollment         Masters   \n",
       "2126   No relevent experience       no_enrollment  Primary School   \n",
       "2127  Has relevent experience    Full time course     High School   \n",
       "2128  Has relevent experience       no_enrollment         Masters   \n",
       "\n",
       "     major_discipline experience company_size   company_type last_new_job  \\\n",
       "0                STEM          9          <10            NaN            1   \n",
       "1                STEM          5          NaN        Pvt Ltd            1   \n",
       "2                 NaN         <1          NaN        Pvt Ltd        never   \n",
       "3                STEM         11        10/49        Pvt Ltd            1   \n",
       "4                STEM        >20       10000+        Pvt Ltd           >4   \n",
       "...               ...        ...          ...            ...          ...   \n",
       "2124       Humanities         16          NaN  Public Sector            4   \n",
       "2125             STEM         18          NaN            NaN            2   \n",
       "2126              NaN          3          NaN        Pvt Ltd        never   \n",
       "2127              NaN          7      100-500  Public Sector            1   \n",
       "2128             STEM         15       10000+        Pvt Ltd            2   \n",
       "\n",
       "      training_hours  \n",
       "0                 21  \n",
       "1                 98  \n",
       "2                 15  \n",
       "3                 39  \n",
       "4                 72  \n",
       "...              ...  \n",
       "2124              15  \n",
       "2125              30  \n",
       "2126              18  \n",
       "2127              84  \n",
       "2128              11  \n",
       "\n",
       "[2129 rows x 13 columns]"
      ]
     },
     "execution_count": 3,
     "metadata": {},
     "output_type": "execute_result"
    }
   ],
   "source": [
    "hrTest = pd.read_csv('aug_test.csv')\n",
    "hrTest"
   ]
  },
  {
   "cell_type": "code",
   "execution_count": 4,
   "metadata": {},
   "outputs": [
    {
     "name": "stdout",
     "output_type": "stream",
     "text": [
      "Train Dataset Shape:  (19158, 14)\n",
      "Test Dataset Shape:  (2129, 13)\n"
     ]
    }
   ],
   "source": [
    "print('Train Dataset Shape: ', hrTrain.shape)\n",
    "print('Test Dataset Shape: ', hrTest.shape)"
   ]
  },
  {
   "cell_type": "code",
   "execution_count": 5,
   "metadata": {},
   "outputs": [
    {
     "name": "stdout",
     "output_type": "stream",
     "text": [
      "<class 'pandas.core.frame.DataFrame'>\n",
      "RangeIndex: 19158 entries, 0 to 19157\n",
      "Data columns (total 14 columns):\n",
      " #   Column                  Non-Null Count  Dtype  \n",
      "---  ------                  --------------  -----  \n",
      " 0   enrollee_id             19158 non-null  int64  \n",
      " 1   city                    19158 non-null  object \n",
      " 2   city_development_index  19158 non-null  float64\n",
      " 3   gender                  14650 non-null  object \n",
      " 4   relevent_experience     19158 non-null  object \n",
      " 5   enrolled_university     18772 non-null  object \n",
      " 6   education_level         18698 non-null  object \n",
      " 7   major_discipline        16345 non-null  object \n",
      " 8   experience              19093 non-null  object \n",
      " 9   company_size            13220 non-null  object \n",
      " 10  company_type            13018 non-null  object \n",
      " 11  last_new_job            18735 non-null  object \n",
      " 12  training_hours          19158 non-null  int64  \n",
      " 13  target                  19158 non-null  float64\n",
      "dtypes: float64(2), int64(2), object(10)\n",
      "memory usage: 2.0+ MB\n"
     ]
    }
   ],
   "source": [
    "hrTrain.info()"
   ]
  },
  {
   "cell_type": "code",
   "execution_count": 6,
   "metadata": {},
   "outputs": [
    {
     "data": {
      "image/png": "[encoded data removed]",
      "text/plain": [
       "<Figure size 1152x576 with 1 Axes>"
      ]
     },
     "metadata": {
      "needs_background": "light"
     },
     "output_type": "display_data"
    }
   ],
   "source": [
    "plt.figure(figsize= (16,8))\n",
    "sns.heatmap(hrTrain.isnull(), cbar = False)\n",
    "plt.show()"
   ]
  },
  {
   "cell_type": "code",
   "execution_count": 7,
   "metadata": {},
   "outputs": [
    {
     "data": {
      "text/html": [
       "<div>\n",
       "<style scoped>\n",
       "    .dataframe tbody tr th:only-of-type {\n",
       "        vertical-align: middle;\n",
       "    }\n",
       "\n",
       "    .dataframe tbody tr th {\n",
       "        vertical-align: top;\n",
       "    }\n",
       "\n",
       "    .dataframe thead th {\n",
       "        text-align: right;\n",
       "    }\n",
       "</style>\n",
       "<table border=\"1\" class=\"dataframe\">\n",
       "  <thead>\n",
       "    <tr style=\"text-align: right;\">\n",
       "      <th></th>\n",
       "      <th>Category</th>\n",
       "      <th>Total Null</th>\n",
       "      <th>Percent Null</th>\n",
       "    </tr>\n",
       "  </thead>\n",
       "  <tbody>\n",
       "    <tr>\n",
       "      <th>10</th>\n",
       "      <td>company_type</td>\n",
       "      <td>6140</td>\n",
       "      <td>32.05</td>\n",
       "    </tr>\n",
       "    <tr>\n",
       "      <th>9</th>\n",
       "      <td>company_size</td>\n",
       "      <td>5938</td>\n",
       "      <td>30.99</td>\n",
       "    </tr>\n",
       "    <tr>\n",
       "      <th>3</th>\n",
       "      <td>gender</td>\n",
       "      <td>4508</td>\n",
       "      <td>23.53</td>\n",
       "    </tr>\n",
       "    <tr>\n",
       "      <th>7</th>\n",
       "      <td>major_discipline</td>\n",
       "      <td>2813</td>\n",
       "      <td>14.68</td>\n",
       "    </tr>\n",
       "    <tr>\n",
       "      <th>6</th>\n",
       "      <td>education_level</td>\n",
       "      <td>460</td>\n",
       "      <td>2.40</td>\n",
       "    </tr>\n",
       "    <tr>\n",
       "      <th>11</th>\n",
       "      <td>last_new_job</td>\n",
       "      <td>423</td>\n",
       "      <td>2.21</td>\n",
       "    </tr>\n",
       "    <tr>\n",
       "      <th>5</th>\n",
       "      <td>enrolled_university</td>\n",
       "      <td>386</td>\n",
       "      <td>2.01</td>\n",
       "    </tr>\n",
       "    <tr>\n",
       "      <th>8</th>\n",
       "      <td>experience</td>\n",
       "      <td>65</td>\n",
       "      <td>0.34</td>\n",
       "    </tr>\n",
       "    <tr>\n",
       "      <th>0</th>\n",
       "      <td>enrollee_id</td>\n",
       "      <td>0</td>\n",
       "      <td>0.00</td>\n",
       "    </tr>\n",
       "    <tr>\n",
       "      <th>1</th>\n",
       "      <td>city</td>\n",
       "      <td>0</td>\n",
       "      <td>0.00</td>\n",
       "    </tr>\n",
       "    <tr>\n",
       "      <th>2</th>\n",
       "      <td>city_development_index</td>\n",
       "      <td>0</td>\n",
       "      <td>0.00</td>\n",
       "    </tr>\n",
       "    <tr>\n",
       "      <th>4</th>\n",
       "      <td>relevent_experience</td>\n",
       "      <td>0</td>\n",
       "      <td>0.00</td>\n",
       "    </tr>\n",
       "    <tr>\n",
       "      <th>12</th>\n",
       "      <td>training_hours</td>\n",
       "      <td>0</td>\n",
       "      <td>0.00</td>\n",
       "    </tr>\n",
       "    <tr>\n",
       "      <th>13</th>\n",
       "      <td>target</td>\n",
       "      <td>0</td>\n",
       "      <td>0.00</td>\n",
       "    </tr>\n",
       "  </tbody>\n",
       "</table>\n",
       "</div>"
      ],
      "text/plain": [
       "                  Category  Total Null  Percent Null\n",
       "10            company_type        6140         32.05\n",
       "9             company_size        5938         30.99\n",
       "3                   gender        4508         23.53\n",
       "7         major_discipline        2813         14.68\n",
       "6          education_level         460          2.40\n",
       "11            last_new_job         423          2.21\n",
       "5      enrolled_university         386          2.01\n",
       "8               experience          65          0.34\n",
       "0              enrollee_id           0          0.00\n",
       "1                     city           0          0.00\n",
       "2   city_development_index           0          0.00\n",
       "4      relevent_experience           0          0.00\n",
       "12          training_hours           0          0.00\n",
       "13                  target           0          0.00"
      ]
     },
     "execution_count": 7,
     "metadata": {},
     "output_type": "execute_result"
    }
   ],
   "source": [
    "nullTotalDF = pd.DataFrame(hrTrain.isnull().sum()).reset_index()\n",
    "nullTotalDF.columns = ['Category', 'Total Null']\n",
    "nullPercentDF = pd.DataFrame(round(hrTrain.isnull().sum()/hrTrain.shape[0]*100,2)).reset_index()\n",
    "nullPercentDF.columns = ['Category', 'Percent Null']\n",
    "nullDF = pd.merge(nullTotalDF, nullPercentDF, on = 'Category')\n",
    "nullDF.sort_values('Percent Null', ascending = False)"
   ]
  },
  {
   "cell_type": "markdown",
   "metadata": {},
   "source": [
    "We'll likely end up removing all the columns with more than 30% null values but that decision will be made after further inspection of each column."
   ]
  },
  {
   "cell_type": "code",
   "execution_count": 8,
   "metadata": {},
   "outputs": [
    {
     "data": {
      "text/plain": [
       "Male      13221\n",
       "NaN        4508\n",
       "Female     1238\n",
       "Other       191\n",
       "Name: gender, dtype: int64"
      ]
     },
     "execution_count": 8,
     "metadata": {},
     "output_type": "execute_result"
    }
   ],
   "source": [
    "hrTrain['gender'].value_counts(dropna = False)"
   ]
  },
  {
   "cell_type": "code",
   "execution_count": 9,
   "metadata": {},
   "outputs": [
    {
     "data": {
      "text/plain": [
       "Male      1460\n",
       "NaN        508\n",
       "Female     137\n",
       "Other       24\n",
       "Name: gender, dtype: int64"
      ]
     },
     "execution_count": 9,
     "metadata": {},
     "output_type": "execute_result"
    }
   ],
   "source": [
    "hrTest['gender'].value_counts(dropna = False)"
   ]
  },
  {
   "cell_type": "markdown",
   "metadata": {},
   "source": [
    "Since the second largest category in the gender columns is 'no answer' we'll assume that many people who do not identify as a male did not want to disclose that gender information. For the purpose of our model we'll change the entries in this columns from 'Male' to 'Male ID' for those who identified as Male and to 'Non-Male ID' for all other entries for those who did not choose to identify as male."
   ]
  },
  {
   "cell_type": "code",
   "execution_count": 10,
   "metadata": {},
   "outputs": [
    {
     "data": {
      "text/plain": [
       "Male ID        13221\n",
       "Non-Male ID     5937\n",
       "Name: gender, dtype: int64"
      ]
     },
     "execution_count": 10,
     "metadata": {},
     "output_type": "execute_result"
    }
   ],
   "source": [
    "hrTrain['gender'].replace({'Male':'Male ID', 'Female':'Non-Male ID', 'Other':'Non-Male ID'}, inplace = True)\n",
    "hrTrain['gender'].fillna('Non-Male ID', inplace = True)\n",
    "hrTrain['gender'].value_counts(dropna = False)"
   ]
  },
  {
   "cell_type": "code",
   "execution_count": 11,
   "metadata": {},
   "outputs": [
    {
     "data": {
      "text/plain": [
       "Male ID        1460\n",
       "Non-Male ID     669\n",
       "Name: gender, dtype: int64"
      ]
     },
     "execution_count": 11,
     "metadata": {},
     "output_type": "execute_result"
    }
   ],
   "source": [
    "hrTest['gender'].replace({'Male':'Male ID', 'Female':'Non-Male ID', 'Other':'Non-Male ID'}, inplace = True)\n",
    "hrTest['gender'].fillna('Non-Male ID', inplace = True)\n",
    "hrTest['gender'].value_counts(dropna = False)"
   ]
  },
  {
   "cell_type": "code",
   "execution_count": 12,
   "metadata": {},
   "outputs": [
    {
     "data": {
      "text/plain": [
       "no_enrollment       13817\n",
       "Full time course     3757\n",
       "Part time course     1198\n",
       "NaN                   386\n",
       "Name: enrolled_university, dtype: int64"
      ]
     },
     "execution_count": 12,
     "metadata": {},
     "output_type": "execute_result"
    }
   ],
   "source": [
    "hrTrain['enrolled_university'].value_counts(dropna = False)"
   ]
  },
  {
   "cell_type": "code",
   "execution_count": 13,
   "metadata": {},
   "outputs": [
    {
     "data": {
      "text/plain": [
       "no_enrollment       1519\n",
       "Full time course     435\n",
       "Part time course     144\n",
       "NaN                   31\n",
       "Name: enrolled_university, dtype: int64"
      ]
     },
     "execution_count": 13,
     "metadata": {},
     "output_type": "execute_result"
    }
   ],
   "source": [
    "hrTest['enrolled_university'].value_counts(dropna = False)"
   ]
  },
  {
   "cell_type": "markdown",
   "metadata": {},
   "source": [
    "We'll change any null values for the 'enrolled_university' column to 'Other'."
   ]
  },
  {
   "cell_type": "code",
   "execution_count": 14,
   "metadata": {},
   "outputs": [
    {
     "data": {
      "text/plain": [
       "no_enrollment       13817\n",
       "Full time course     3757\n",
       "Part time course     1198\n",
       "Other                 386\n",
       "Name: enrolled_university, dtype: int64"
      ]
     },
     "execution_count": 14,
     "metadata": {},
     "output_type": "execute_result"
    }
   ],
   "source": [
    "hrTrain['enrolled_university'].fillna('Other', inplace = True)\n",
    "hrTrain['enrolled_university'].value_counts(dropna = False)"
   ]
  },
  {
   "cell_type": "code",
   "execution_count": 15,
   "metadata": {},
   "outputs": [
    {
     "data": {
      "text/plain": [
       "no_enrollment       1519\n",
       "Full time course     435\n",
       "Part time course     144\n",
       "Other                 31\n",
       "Name: enrolled_university, dtype: int64"
      ]
     },
     "execution_count": 15,
     "metadata": {},
     "output_type": "execute_result"
    }
   ],
   "source": [
    "hrTest['enrolled_university'].fillna('Other', inplace = True)\n",
    "hrTest['enrolled_university'].value_counts(dropna = False)"
   ]
  },
  {
   "cell_type": "code",
   "execution_count": 16,
   "metadata": {},
   "outputs": [
    {
     "data": {
      "text/plain": [
       "Graduate          11598\n",
       "Masters            4361\n",
       "High School        2017\n",
       "NaN                 460\n",
       "Phd                 414\n",
       "Primary School      308\n",
       "Name: education_level, dtype: int64"
      ]
     },
     "execution_count": 16,
     "metadata": {},
     "output_type": "execute_result"
    }
   ],
   "source": [
    "hrTrain['education_level'].value_counts(dropna = False)"
   ]
  },
  {
   "cell_type": "code",
   "execution_count": 17,
   "metadata": {},
   "outputs": [
    {
     "data": {
      "text/plain": [
       "Graduate          1269\n",
       "Masters            496\n",
       "High School        222\n",
       "Phd                 54\n",
       "NaN                 52\n",
       "Primary School      36\n",
       "Name: education_level, dtype: int64"
      ]
     },
     "execution_count": 17,
     "metadata": {},
     "output_type": "execute_result"
    }
   ],
   "source": [
    "hrTest['education_level'].value_counts(dropna = False)"
   ]
  },
  {
   "cell_type": "markdown",
   "metadata": {},
   "source": [
    "We'll change the null values in the education level to 'Other' since we can't assume the education level of those who did not fill out this section."
   ]
  },
  {
   "cell_type": "code",
   "execution_count": 18,
   "metadata": {},
   "outputs": [
    {
     "data": {
      "text/plain": [
       "Graduate          11598\n",
       "Masters            4361\n",
       "High School        2017\n",
       "Other               460\n",
       "Phd                 414\n",
       "Primary School      308\n",
       "Name: education_level, dtype: int64"
      ]
     },
     "execution_count": 18,
     "metadata": {},
     "output_type": "execute_result"
    }
   ],
   "source": [
    "hrTrain['education_level'].fillna('Other', inplace = True)\n",
    "hrTrain['education_level'].value_counts(dropna = False)"
   ]
  },
  {
   "cell_type": "code",
   "execution_count": 19,
   "metadata": {},
   "outputs": [
    {
     "data": {
      "text/plain": [
       "Graduate          1269\n",
       "Masters            496\n",
       "High School        222\n",
       "Phd                 54\n",
       "Other               52\n",
       "Primary School      36\n",
       "Name: education_level, dtype: int64"
      ]
     },
     "execution_count": 19,
     "metadata": {},
     "output_type": "execute_result"
    }
   ],
   "source": [
    "hrTest['education_level'].fillna('Other', inplace = True)\n",
    "hrTest['education_level'].value_counts(dropna = False)"
   ]
  },
  {
   "cell_type": "code",
   "execution_count": 20,
   "metadata": {},
   "outputs": [
    {
     "data": {
      "text/plain": [
       "STEM               14492\n",
       "NaN                 2813\n",
       "Humanities           669\n",
       "Other                381\n",
       "Business Degree      327\n",
       "Arts                 253\n",
       "No Major             223\n",
       "Name: major_discipline, dtype: int64"
      ]
     },
     "execution_count": 20,
     "metadata": {},
     "output_type": "execute_result"
    }
   ],
   "source": [
    "hrTrain['major_discipline'].value_counts(dropna = False)"
   ]
  },
  {
   "cell_type": "code",
   "execution_count": 21,
   "metadata": {},
   "outputs": [
    {
     "data": {
      "text/plain": [
       "STEM               1621\n",
       "NaN                 312\n",
       "Humanities           80\n",
       "Other                40\n",
       "Business Degree      37\n",
       "No Major             22\n",
       "Arts                 17\n",
       "Name: major_discipline, dtype: int64"
      ]
     },
     "execution_count": 21,
     "metadata": {},
     "output_type": "execute_result"
    }
   ],
   "source": [
    "hrTest['major_discipline'].value_counts(dropna = False)"
   ]
  },
  {
   "cell_type": "markdown",
   "metadata": {},
   "source": [
    "We have more null values than many of the alternative options that were presented to the enrollees. We'll change this category into a binary classification where the education major is either STEM or Non-STEM,"
   ]
  },
  {
   "cell_type": "code",
   "execution_count": 22,
   "metadata": {},
   "outputs": [
    {
     "data": {
      "text/plain": [
       "STEM        14492\n",
       "Non-STEM     4666\n",
       "Name: major_discipline, dtype: int64"
      ]
     },
     "execution_count": 22,
     "metadata": {},
     "output_type": "execute_result"
    }
   ],
   "source": [
    "hrTrain['major_discipline'].replace(dict.fromkeys(['Humanities', 'Other', 'Business Degree', 'No Major', 'Arts'], 'Non-STEM'), inplace = True)\n",
    "hrTrain['major_discipline'].fillna('Non-STEM', inplace = True)\n",
    "hrTrain['major_discipline'].value_counts(dropna = False)"
   ]
  },
  {
   "cell_type": "code",
   "execution_count": 23,
   "metadata": {},
   "outputs": [
    {
     "data": {
      "text/plain": [
       "STEM        1621\n",
       "Non-STEM     508\n",
       "Name: major_discipline, dtype: int64"
      ]
     },
     "execution_count": 23,
     "metadata": {},
     "output_type": "execute_result"
    }
   ],
   "source": [
    "hrTest['major_discipline'].replace(dict.fromkeys(['Humanities', 'Other', 'Business Degree', 'No Major', 'Arts'], 'Non-STEM'), inplace = True)\n",
    "hrTest['major_discipline'].fillna('Non-STEM', inplace = True)\n",
    "hrTest['major_discipline'].value_counts(dropna = False)"
   ]
  },
  {
   "cell_type": "code",
   "execution_count": 24,
   "metadata": {},
   "outputs": [
    {
     "data": {
      "text/plain": [
       ">20    3286\n",
       "5      1430\n",
       "4      1403\n",
       "3      1354\n",
       "6      1216\n",
       "2      1127\n",
       "7      1028\n",
       "10      985\n",
       "9       980\n",
       "8       802\n",
       "15      686\n",
       "11      664\n",
       "14      586\n",
       "1       549\n",
       "<1      522\n",
       "16      508\n",
       "12      494\n",
       "13      399\n",
       "17      342\n",
       "19      304\n",
       "18      280\n",
       "20      148\n",
       "NaN      65\n",
       "Name: experience, dtype: int64"
      ]
     },
     "execution_count": 24,
     "metadata": {},
     "output_type": "execute_result"
    }
   ],
   "source": [
    "hrTrain['experience'].value_counts(dropna = False)"
   ]
  },
  {
   "cell_type": "markdown",
   "metadata": {},
   "source": [
    "There are relatively few null values for years of experience but simply setting these all to 'Other' like we had done with other categories does not make sense with these numeric values. Let's set them to the average of our set which requires us to do some additional manipulation to find out what that average is since we have some non-numeric values as well as them currently being strings. "
   ]
  },
  {
   "cell_type": "code",
   "execution_count": 25,
   "metadata": {},
   "outputs": [
    {
     "name": "stdout",
     "output_type": "stream",
     "text": [
      "The mean years of experience is:  10.1\n"
     ]
    }
   ],
   "source": [
    "exp = hrTrain['experience'].dropna().tolist()\n",
    "for i in range(0, len(exp)):\n",
    "    if exp[i] == '<1':\n",
    "        exp[i] = '0'\n",
    "    elif exp[i] == '>20':\n",
    "        exp[i] = '21'\n",
    "    exp[i] = int(exp[i])\n",
    "mean = round(sum(exp)/len(exp),1)\n",
    "print(\"The mean years of experience is: \",mean)"
   ]
  },
  {
   "cell_type": "code",
   "execution_count": 26,
   "metadata": {},
   "outputs": [],
   "source": [
    "hrTrain['experience'].fillna('10', inplace = True)"
   ]
  },
  {
   "cell_type": "code",
   "execution_count": 27,
   "metadata": {},
   "outputs": [
    {
     "data": {
      "text/plain": [
       "<matplotlib.axes._subplots.AxesSubplot at 0x187db499ee0>"
      ]
     },
     "execution_count": 27,
     "metadata": {},
     "output_type": "execute_result"
    },
    {
     "data": {
      "image/png": "[encoded data removed]",
      "text/plain": [
       "<Figure size 1152x576 with 1 Axes>"
      ]
     },
     "metadata": {
      "needs_background": "light"
     },
     "output_type": "display_data"
    }
   ],
   "source": [
    "hrTrain['experience'].value_counts().plot(kind = 'bar', figsize = (16,8))"
   ]
  },
  {
   "cell_type": "markdown",
   "metadata": {},
   "source": [
    "The years of experience metric is little flawed as it is both very specific and very broad. Let's see what the distribution looks like if we bin the experience into 7 year buckets to try and group enrollees that are in similar stages of their professional careers."
   ]
  },
  {
   "cell_type": "code",
   "execution_count": 28,
   "metadata": {},
   "outputs": [
    {
     "data": {
      "text/plain": [
       "5-9      5456\n",
       "<5       4955\n",
       ">20      3286\n",
       "10-14    3193\n",
       "15-20    2268\n",
       "Name: experience, dtype: int64"
      ]
     },
     "execution_count": 28,
     "metadata": {},
     "output_type": "execute_result"
    }
   ],
   "source": [
    "hrTrain['experience'].replace(dict.fromkeys(['<1', '1', '2', '3', '4'], '<5'), inplace = True)\n",
    "hrTrain['experience'].replace(dict.fromkeys(['8', '9', '5', '6', '7'], '5-9'), inplace = True)\n",
    "hrTrain['experience'].replace(dict.fromkeys(['10','11', '12', '13', '14'], '10-14'), inplace = True)\n",
    "hrTrain['experience'].replace(dict.fromkeys(['15', '16', '17', '18', '19', '20'], '15-20'), inplace = True)\n",
    "hrTrain['experience'].value_counts()"
   ]
  },
  {
   "cell_type": "code",
   "execution_count": 29,
   "metadata": {},
   "outputs": [
    {
     "data": {
      "text/plain": [
       "5-9      604\n",
       "<5       557\n",
       ">20      383\n",
       "10-14    348\n",
       "15-20    237\n",
       "Name: experience, dtype: int64"
      ]
     },
     "execution_count": 29,
     "metadata": {},
     "output_type": "execute_result"
    }
   ],
   "source": [
    "hrTest['experience'].fillna('10', inplace = True)\n",
    "hrTest['experience'].replace(dict.fromkeys(['<1', '1', '2', '3', '4'], '<5'), inplace = True)\n",
    "hrTest['experience'].replace(dict.fromkeys(['8', '9', '5', '6', '7'], '5-9'), inplace = True)\n",
    "hrTest['experience'].replace(dict.fromkeys(['10','11', '12', '13', '14'], '10-14'), inplace = True)\n",
    "hrTest['experience'].replace(dict.fromkeys(['15', '16', '17', '18', '19', '20'], '15-20'), inplace = True)\n",
    "hrTest['experience'].value_counts()"
   ]
  },
  {
   "cell_type": "code",
   "execution_count": 30,
   "metadata": {},
   "outputs": [
    {
     "data": {
      "text/plain": [
       "NaN          5938\n",
       "50-99        3083\n",
       "100-500      2571\n",
       "10000+       2019\n",
       "10/49        1471\n",
       "1000-4999    1328\n",
       "<10          1308\n",
       "500-999       877\n",
       "5000-9999     563\n",
       "Name: company_size, dtype: int64"
      ]
     },
     "execution_count": 30,
     "metadata": {},
     "output_type": "execute_result"
    }
   ],
   "source": [
    "hrTrain['company_size'].value_counts(dropna = False)"
   ]
  },
  {
   "cell_type": "code",
   "execution_count": 31,
   "metadata": {},
   "outputs": [
    {
     "data": {
      "text/plain": [
       "NaN          622\n",
       "50-99        338\n",
       "100-500      318\n",
       "10000+       217\n",
       "10/49        172\n",
       "<10          163\n",
       "1000-4999    143\n",
       "500-999       88\n",
       "5000-9999     68\n",
       "Name: company_size, dtype: int64"
      ]
     },
     "execution_count": 31,
     "metadata": {},
     "output_type": "execute_result"
    }
   ],
   "source": [
    "hrTest['company_size'].value_counts(dropna = False)"
   ]
  },
  {
   "cell_type": "markdown",
   "metadata": {},
   "source": [
    "There are more null values than any other of the numeric buckets for the 'company_size' category. We cannot use an average because it is the number one category and using 'Other' isn't a valid option. We will frop the company_size category altogether."
   ]
  },
  {
   "cell_type": "code",
   "execution_count": 32,
   "metadata": {},
   "outputs": [],
   "source": [
    "hrTrain.drop(['company_size'], axis = 1, inplace = True)\n",
    "hrTest.drop(['company_size'], axis = 1, inplace = True)"
   ]
  },
  {
   "cell_type": "code",
   "execution_count": 33,
   "metadata": {},
   "outputs": [
    {
     "data": {
      "text/plain": [
       "Pvt Ltd                9817\n",
       "NaN                    6140\n",
       "Funded Startup         1001\n",
       "Public Sector           955\n",
       "Early Stage Startup     603\n",
       "NGO                     521\n",
       "Other                   121\n",
       "Name: company_type, dtype: int64"
      ]
     },
     "execution_count": 33,
     "metadata": {},
     "output_type": "execute_result"
    }
   ],
   "source": [
    "hrTrain['company_type'].value_counts(dropna = False)"
   ]
  },
  {
   "cell_type": "markdown",
   "metadata": {},
   "source": [
    "We will set the null values in the 'company_type' to the existing 'Other' category."
   ]
  },
  {
   "cell_type": "code",
   "execution_count": 34,
   "metadata": {},
   "outputs": [],
   "source": [
    "hrTrain.fillna('Other', inplace = True)\n",
    "hrTest.fillna('Other', inplace = True)"
   ]
  },
  {
   "cell_type": "code",
   "execution_count": 35,
   "metadata": {},
   "outputs": [
    {
     "data": {
      "text/plain": [
       "enrollee_id               0\n",
       "city                      0\n",
       "city_development_index    0\n",
       "gender                    0\n",
       "relevent_experience       0\n",
       "enrolled_university       0\n",
       "education_level           0\n",
       "major_discipline          0\n",
       "experience                0\n",
       "company_type              0\n",
       "last_new_job              0\n",
       "training_hours            0\n",
       "target                    0\n",
       "dtype: int64"
      ]
     },
     "execution_count": 35,
     "metadata": {},
     "output_type": "execute_result"
    }
   ],
   "source": [
    "hrTrain.isnull().sum()"
   ]
  },
  {
   "cell_type": "code",
   "execution_count": 36,
   "metadata": {},
   "outputs": [
    {
     "data": {
      "text/plain": [
       "enrollee_id               0\n",
       "city                      0\n",
       "city_development_index    0\n",
       "gender                    0\n",
       "relevent_experience       0\n",
       "enrolled_university       0\n",
       "education_level           0\n",
       "major_discipline          0\n",
       "experience                0\n",
       "company_type              0\n",
       "last_new_job              0\n",
       "training_hours            0\n",
       "dtype: int64"
      ]
     },
     "execution_count": 36,
     "metadata": {},
     "output_type": "execute_result"
    }
   ],
   "source": [
    "hrTest.isnull().sum()"
   ]
  },
  {
   "cell_type": "code",
   "execution_count": 37,
   "metadata": {},
   "outputs": [
    {
     "name": "stdout",
     "output_type": "stream",
     "text": [
      "<class 'pandas.core.frame.DataFrame'>\n",
      "RangeIndex: 19158 entries, 0 to 19157\n",
      "Data columns (total 13 columns):\n",
      " #   Column                  Non-Null Count  Dtype  \n",
      "---  ------                  --------------  -----  \n",
      " 0   enrollee_id             19158 non-null  int64  \n",
      " 1   city                    19158 non-null  object \n",
      " 2   city_development_index  19158 non-null  float64\n",
      " 3   gender                  19158 non-null  object \n",
      " 4   relevent_experience     19158 non-null  object \n",
      " 5   enrolled_university     19158 non-null  object \n",
      " 6   education_level         19158 non-null  object \n",
      " 7   major_discipline        19158 non-null  object \n",
      " 8   experience              19158 non-null  object \n",
      " 9   company_type            19158 non-null  object \n",
      " 10  last_new_job            19158 non-null  object \n",
      " 11  training_hours          19158 non-null  int64  \n",
      " 12  target                  19158 non-null  float64\n",
      "dtypes: float64(2), int64(2), object(9)\n",
      "memory usage: 1.9+ MB\n"
     ]
    }
   ],
   "source": [
    "hrTrain.info()"
   ]
  },
  {
   "cell_type": "code",
   "execution_count": 38,
   "metadata": {},
   "outputs": [
    {
     "data": {
      "text/plain": [
       "2047     0.000052\n",
       "2692     0.000052\n",
       "4743     0.000052\n",
       "27272    0.000052\n",
       "25225    0.000052\n",
       "           ...   \n",
       "17682    0.000052\n",
       "19731    0.000052\n",
       "29972    0.000052\n",
       "25878    0.000052\n",
       "6147     0.000052\n",
       "Name: enrollee_id, Length: 19158, dtype: float64"
      ]
     },
     "execution_count": 38,
     "metadata": {},
     "output_type": "execute_result"
    }
   ],
   "source": [
    "hrTrain['enrollee_id'].value_counts(normalize=True)"
   ]
  },
  {
   "cell_type": "markdown",
   "metadata": {},
   "source": [
    "The `enrollee_id` is unique to each row/entry so it can be removed"
   ]
  },
  {
   "cell_type": "code",
   "execution_count": 39,
   "metadata": {},
   "outputs": [],
   "source": [
    "hrTrain.drop('enrollee_id', axis = 1, inplace = True)\n",
    "hrTest.drop('enrollee_id', axis = 1, inplace = True)"
   ]
  },
  {
   "cell_type": "code",
   "execution_count": 40,
   "metadata": {},
   "outputs": [
    {
     "data": {
      "text/plain": [
       "city_103    0.227320\n",
       "city_21     0.141038\n",
       "city_16     0.080019\n",
       "city_114    0.069736\n",
       "city_160    0.044107\n",
       "              ...   \n",
       "city_111    0.000157\n",
       "city_129    0.000157\n",
       "city_121    0.000157\n",
       "city_171    0.000052\n",
       "city_140    0.000052\n",
       "Name: city, Length: 123, dtype: float64"
      ]
     },
     "execution_count": 40,
     "metadata": {},
     "output_type": "execute_result"
    }
   ],
   "source": [
    "hrTrain['city'].value_counts(normalize=True)"
   ]
  },
  {
   "cell_type": "markdown",
   "metadata": {},
   "source": [
    "Geographic location doesn't fit our objective and it is very likely we run into an enrollee that does not work in one of the 123 cites from the original dataset. This means that this metric is not useful and it will cause issues at some point so we will remove it from the dataset."
   ]
  },
  {
   "cell_type": "code",
   "execution_count": 41,
   "metadata": {},
   "outputs": [],
   "source": [
    "hrTrain.drop('city', axis = 1, inplace = True)\n",
    "hrTest.drop('city', axis = 1, inplace = True)"
   ]
  },
  {
   "cell_type": "markdown",
   "metadata": {},
   "source": [
    "### EDA"
   ]
  },
  {
   "cell_type": "code",
   "execution_count": 42,
   "metadata": {},
   "outputs": [],
   "source": [
    "def univar(column, width = 0.2):\n",
    "    labels = np.unique(hrTrain[column].tolist())\n",
    "    targetList = []\n",
    "    nonTargetList = []\n",
    "    percents = []\n",
    "    width = width\n",
    "    labelLen = np.arange(len(labels))\n",
    "\n",
    "    for i in labels:\n",
    "        colCountTarget = len(hrTrain.loc[(hrTrain[column] == i) & (hrTrain['target'] == 1)])\n",
    "        targetList.append(colCountTarget)\n",
    "        colCountNotTarget = len(hrTrain.loc[(hrTrain[column] == i) & (hrTrain['target'] == 0)])\n",
    "        nonTargetList.append(colCountNotTarget)\n",
    "        perCol = round(colCountTarget/(colCountTarget+colCountNotTarget)*100,2)\n",
    "        percents.append(perCol)\n",
    "    \n",
    "    fig, (ax1, ax2) = plt.subplots(1, 2, figsize=(16,8))\n",
    "    fig.suptitle(f'Univariate Analysis of {column}')\n",
    "    \n",
    "    # ax1\n",
    "    ax1.bar(labelLen - width/2, targetList, width, label = 'Target', edgecolor = 'black')\n",
    "    ax1.bar(labelLen + width/2, nonTargetList, width, label = 'Non-Target', edgecolor = 'black')\n",
    "    # Graph elements\n",
    "    ax1.set_ylabel('Number of Enrollees')\n",
    "    ax1.set_xlabel(column)\n",
    "    ax1.set_title(f'Enrollee Target Comparison by {column}')\n",
    "    ax1.set_xticks(labelLen)\n",
    "    ax1.set_xticklabels(labels, rotation = 15)\n",
    "    ax1.legend()\n",
    "    \n",
    "    # ax2\n",
    "    ax2.bar(labels, percents, edgecolor = 'black')\n",
    "    # Graph elements\n",
    "    ax2.set_ylabel('Percent Targetted (%)')\n",
    "    ax2.set_xlabel(column)\n",
    "    ax2.set_title(f'Enrollee Percent Targetted Comparison by {column}')\n",
    "    ax2.set_xticklabels(labels, rotation = 15)\n",
    "    \n",
    "    plt.show()"
   ]
  },
  {
   "cell_type": "code",
   "execution_count": 43,
   "metadata": {},
   "outputs": [
    {
     "data": {
      "image/png": "[encoded data removed]",
      "text/plain": [
       "<Figure size 1152x576 with 2 Axes>"
      ]
     },
     "metadata": {
      "needs_background": "light"
     },
     "output_type": "display_data"
    }
   ],
   "source": [
    "univar('gender')"
   ]
  },
  {
   "cell_type": "code",
   "execution_count": 44,
   "metadata": {},
   "outputs": [
    {
     "data": {
      "image/png": "[encoded data removed]",
      "text/plain": [
       "<Figure size 1152x576 with 2 Axes>"
      ]
     },
     "metadata": {
      "needs_background": "light"
     },
     "output_type": "display_data"
    }
   ],
   "source": [
    "univar('relevent_experience')"
   ]
  },
  {
   "cell_type": "code",
   "execution_count": 45,
   "metadata": {},
   "outputs": [
    {
     "data": {
      "image/png": "[encoded data removed]",
      "text/plain": [
       "<Figure size 1152x576 with 2 Axes>"
      ]
     },
     "metadata": {
      "needs_background": "light"
     },
     "output_type": "display_data"
    }
   ],
   "source": [
    "univar('enrolled_university')"
   ]
  },
  {
   "cell_type": "code",
   "execution_count": 46,
   "metadata": {},
   "outputs": [
    {
     "data": {
      "image/png": "[encoded data removed]",
      "text/plain": [
       "<Figure size 1152x576 with 2 Axes>"
      ]
     },
     "metadata": {
      "needs_background": "light"
     },
     "output_type": "display_data"
    }
   ],
   "source": [
    "univar('education_level')"
   ]
  },
  {
   "cell_type": "code",
   "execution_count": 47,
   "metadata": {},
   "outputs": [
    {
     "data": {
      "image/png": "[encoded data removed]",
      "text/plain": [
       "<Figure size 1152x576 with 2 Axes>"
      ]
     },
     "metadata": {
      "needs_background": "light"
     },
     "output_type": "display_data"
    }
   ],
   "source": [
    "univar('major_discipline')"
   ]
  },
  {
   "cell_type": "code",
   "execution_count": 48,
   "metadata": {},
   "outputs": [
    {
     "data": {
      "image/png": "[encoded data removed]",
      "text/plain": [
       "<Figure size 1152x576 with 2 Axes>"
      ]
     },
     "metadata": {
      "needs_background": "light"
     },
     "output_type": "display_data"
    }
   ],
   "source": [
    "univar('experience')"
   ]
  },
  {
   "cell_type": "code",
   "execution_count": 49,
   "metadata": {},
   "outputs": [
    {
     "data": {
      "image/png": "[encoded data removed]",
      "text/plain": [
       "<Figure size 1152x576 with 2 Axes>"
      ]
     },
     "metadata": {
      "needs_background": "light"
     },
     "output_type": "display_data"
    }
   ],
   "source": [
    "univar('company_type')"
   ]
  },
  {
   "cell_type": "code",
   "execution_count": 50,
   "metadata": {},
   "outputs": [
    {
     "data": {
      "image/png": "[encoded data removed]",
      "text/plain": [
       "<Figure size 1152x576 with 2 Axes>"
      ]
     },
     "metadata": {
      "needs_background": "light"
     },
     "output_type": "display_data"
    }
   ],
   "source": [
    "univar('last_new_job')"
   ]
  },
  {
   "cell_type": "code",
   "execution_count": 51,
   "metadata": {},
   "outputs": [
    {
     "data": {
      "image/png": "[encoded data removed]",
      "text/plain": [
       "<Figure size 1152x576 with 2 Axes>"
      ]
     },
     "metadata": {
      "needs_background": "light"
     },
     "output_type": "display_data"
    }
   ],
   "source": [
    "plt.figure(figsize=(16,8))\n",
    "\n",
    "plt.subplot(2,1,1)\n",
    "sns.distplot(hrTrain['city_development_index'])\n",
    "plt.subplot(2,1,2)\n",
    "sns.boxplot(y=hrTrain['city_development_index'], x = hrTrain['target'])\n",
    "plt.show()"
   ]
  },
  {
   "cell_type": "markdown",
   "metadata": {},
   "source": [
    "insert qualitative index here"
   ]
  },
  {
   "cell_type": "code",
   "execution_count": 52,
   "metadata": {},
   "outputs": [
    {
     "data": {
      "image/png": "[encoded data removed]",
      "text/plain": [
       "<Figure size 1152x576 with 2 Axes>"
      ]
     },
     "metadata": {
      "needs_background": "light"
     },
     "output_type": "display_data"
    }
   ],
   "source": [
    "plt.figure(figsize=(16,8))\n",
    "\n",
    "plt.subplot(2,1,1)\n",
    "sns.distplot(hrTrain['training_hours'])\n",
    "plt.subplot(2,1,2)\n",
    "sns.boxplot(y = hrTrain['training_hours'], x = hrTrain['target'])\n",
    "plt.show()"
   ]
  },
  {
   "cell_type": "code",
   "execution_count": 53,
   "metadata": {},
   "outputs": [],
   "source": [
    "q95 = hrTrain['training_hours'].quantile(0.95)\n",
    "hrTrain.loc[hrTrain['training_hours'] >= q95, 'training_hours'] = q95"
   ]
  },
  {
   "cell_type": "code",
   "execution_count": 54,
   "metadata": {},
   "outputs": [
    {
     "data": {
      "image/png": "[encoded data removed]",
      "text/plain": [
       "<Figure size 1152x576 with 2 Axes>"
      ]
     },
     "metadata": {
      "needs_background": "light"
     },
     "output_type": "display_data"
    }
   ],
   "source": [
    "plt.figure(figsize=(16,8))\n",
    "\n",
    "plt.subplot(2,1,1)\n",
    "sns.distplot(hrTrain['training_hours'])\n",
    "plt.subplot(2,1,2)\n",
    "sns.boxplot(y = hrTrain['training_hours'], x = hrTrain['target'])\n",
    "plt.show()"
   ]
  },
  {
   "cell_type": "code",
   "execution_count": 55,
   "metadata": {},
   "outputs": [
    {
     "data": {
      "image/png": "[encoded data removed]",
      "text/plain": [
       "<Figure size 432x288 with 1 Axes>"
      ]
     },
     "metadata": {},
     "output_type": "display_data"
    }
   ],
   "source": [
    "targetCounts = hrTrain['target'].value_counts().to_frame('counts')\n",
    "plt.pie(targetCounts.counts, explode = (0, 0.1), labels = ['Non-Target', 'Target'], autopct='%1.1f%%', radius = 3, labeldistance = -0.5)\n",
    "plt.show()"
   ]
  },
  {
   "cell_type": "markdown",
   "metadata": {},
   "source": [
    "### Data Prep"
   ]
  },
  {
   "cell_type": "code",
   "execution_count": 56,
   "metadata": {},
   "outputs": [
    {
     "data": {
      "text/html": [
       "<div>\n",
       "<style scoped>\n",
       "    .dataframe tbody tr th:only-of-type {\n",
       "        vertical-align: middle;\n",
       "    }\n",
       "\n",
       "    .dataframe tbody tr th {\n",
       "        vertical-align: top;\n",
       "    }\n",
       "\n",
       "    .dataframe thead th {\n",
       "        text-align: right;\n",
       "    }\n",
       "</style>\n",
       "<table border=\"1\" class=\"dataframe\">\n",
       "  <thead>\n",
       "    <tr style=\"text-align: right;\">\n",
       "      <th></th>\n",
       "      <th>city_development_index</th>\n",
       "      <th>gender</th>\n",
       "      <th>relevent_experience</th>\n",
       "      <th>enrolled_university</th>\n",
       "      <th>education_level</th>\n",
       "      <th>major_discipline</th>\n",
       "      <th>experience</th>\n",
       "      <th>company_type</th>\n",
       "      <th>last_new_job</th>\n",
       "      <th>training_hours</th>\n",
       "      <th>target</th>\n",
       "    </tr>\n",
       "  </thead>\n",
       "  <tbody>\n",
       "    <tr>\n",
       "      <th>0</th>\n",
       "      <td>0.920</td>\n",
       "      <td>Male ID</td>\n",
       "      <td>Has relevent experience</td>\n",
       "      <td>no_enrollment</td>\n",
       "      <td>Graduate</td>\n",
       "      <td>STEM</td>\n",
       "      <td>&gt;20</td>\n",
       "      <td>Other</td>\n",
       "      <td>1</td>\n",
       "      <td>36.0</td>\n",
       "      <td>1.0</td>\n",
       "    </tr>\n",
       "    <tr>\n",
       "      <th>1</th>\n",
       "      <td>0.776</td>\n",
       "      <td>Male ID</td>\n",
       "      <td>No relevent experience</td>\n",
       "      <td>no_enrollment</td>\n",
       "      <td>Graduate</td>\n",
       "      <td>STEM</td>\n",
       "      <td>15-20</td>\n",
       "      <td>Pvt Ltd</td>\n",
       "      <td>&gt;4</td>\n",
       "      <td>47.0</td>\n",
       "      <td>0.0</td>\n",
       "    </tr>\n",
       "    <tr>\n",
       "      <th>2</th>\n",
       "      <td>0.624</td>\n",
       "      <td>Non-Male ID</td>\n",
       "      <td>No relevent experience</td>\n",
       "      <td>Full time course</td>\n",
       "      <td>Graduate</td>\n",
       "      <td>STEM</td>\n",
       "      <td>5-9</td>\n",
       "      <td>Other</td>\n",
       "      <td>never</td>\n",
       "      <td>83.0</td>\n",
       "      <td>0.0</td>\n",
       "    </tr>\n",
       "    <tr>\n",
       "      <th>3</th>\n",
       "      <td>0.789</td>\n",
       "      <td>Non-Male ID</td>\n",
       "      <td>No relevent experience</td>\n",
       "      <td>Other</td>\n",
       "      <td>Graduate</td>\n",
       "      <td>Non-STEM</td>\n",
       "      <td>&lt;5</td>\n",
       "      <td>Pvt Ltd</td>\n",
       "      <td>never</td>\n",
       "      <td>52.0</td>\n",
       "      <td>1.0</td>\n",
       "    </tr>\n",
       "    <tr>\n",
       "      <th>4</th>\n",
       "      <td>0.767</td>\n",
       "      <td>Male ID</td>\n",
       "      <td>Has relevent experience</td>\n",
       "      <td>no_enrollment</td>\n",
       "      <td>Masters</td>\n",
       "      <td>STEM</td>\n",
       "      <td>&gt;20</td>\n",
       "      <td>Funded Startup</td>\n",
       "      <td>4</td>\n",
       "      <td>8.0</td>\n",
       "      <td>0.0</td>\n",
       "    </tr>\n",
       "    <tr>\n",
       "      <th>...</th>\n",
       "      <td>...</td>\n",
       "      <td>...</td>\n",
       "      <td>...</td>\n",
       "      <td>...</td>\n",
       "      <td>...</td>\n",
       "      <td>...</td>\n",
       "      <td>...</td>\n",
       "      <td>...</td>\n",
       "      <td>...</td>\n",
       "      <td>...</td>\n",
       "      <td>...</td>\n",
       "    </tr>\n",
       "    <tr>\n",
       "      <th>19153</th>\n",
       "      <td>0.878</td>\n",
       "      <td>Male ID</td>\n",
       "      <td>No relevent experience</td>\n",
       "      <td>no_enrollment</td>\n",
       "      <td>Graduate</td>\n",
       "      <td>Non-STEM</td>\n",
       "      <td>10-14</td>\n",
       "      <td>Other</td>\n",
       "      <td>1</td>\n",
       "      <td>42.0</td>\n",
       "      <td>1.0</td>\n",
       "    </tr>\n",
       "    <tr>\n",
       "      <th>19154</th>\n",
       "      <td>0.920</td>\n",
       "      <td>Male ID</td>\n",
       "      <td>Has relevent experience</td>\n",
       "      <td>no_enrollment</td>\n",
       "      <td>Graduate</td>\n",
       "      <td>STEM</td>\n",
       "      <td>10-14</td>\n",
       "      <td>Other</td>\n",
       "      <td>4</td>\n",
       "      <td>52.0</td>\n",
       "      <td>1.0</td>\n",
       "    </tr>\n",
       "    <tr>\n",
       "      <th>19155</th>\n",
       "      <td>0.920</td>\n",
       "      <td>Male ID</td>\n",
       "      <td>Has relevent experience</td>\n",
       "      <td>no_enrollment</td>\n",
       "      <td>Graduate</td>\n",
       "      <td>STEM</td>\n",
       "      <td>&gt;20</td>\n",
       "      <td>Pvt Ltd</td>\n",
       "      <td>4</td>\n",
       "      <td>44.0</td>\n",
       "      <td>0.0</td>\n",
       "    </tr>\n",
       "    <tr>\n",
       "      <th>19156</th>\n",
       "      <td>0.802</td>\n",
       "      <td>Male ID</td>\n",
       "      <td>Has relevent experience</td>\n",
       "      <td>no_enrollment</td>\n",
       "      <td>High School</td>\n",
       "      <td>Non-STEM</td>\n",
       "      <td>&lt;5</td>\n",
       "      <td>Pvt Ltd</td>\n",
       "      <td>2</td>\n",
       "      <td>97.0</td>\n",
       "      <td>0.0</td>\n",
       "    </tr>\n",
       "    <tr>\n",
       "      <th>19157</th>\n",
       "      <td>0.855</td>\n",
       "      <td>Non-Male ID</td>\n",
       "      <td>No relevent experience</td>\n",
       "      <td>no_enrollment</td>\n",
       "      <td>Primary School</td>\n",
       "      <td>Non-STEM</td>\n",
       "      <td>&lt;5</td>\n",
       "      <td>Other</td>\n",
       "      <td>1</td>\n",
       "      <td>127.0</td>\n",
       "      <td>0.0</td>\n",
       "    </tr>\n",
       "  </tbody>\n",
       "</table>\n",
       "<p>19158 rows × 11 columns</p>\n",
       "</div>"
      ],
      "text/plain": [
       "       city_development_index       gender      relevent_experience  \\\n",
       "0                       0.920      Male ID  Has relevent experience   \n",
       "1                       0.776      Male ID   No relevent experience   \n",
       "2                       0.624  Non-Male ID   No relevent experience   \n",
       "3                       0.789  Non-Male ID   No relevent experience   \n",
       "4                       0.767      Male ID  Has relevent experience   \n",
       "...                       ...          ...                      ...   \n",
       "19153                   0.878      Male ID   No relevent experience   \n",
       "19154                   0.920      Male ID  Has relevent experience   \n",
       "19155                   0.920      Male ID  Has relevent experience   \n",
       "19156                   0.802      Male ID  Has relevent experience   \n",
       "19157                   0.855  Non-Male ID   No relevent experience   \n",
       "\n",
       "      enrolled_university education_level major_discipline experience  \\\n",
       "0           no_enrollment        Graduate             STEM        >20   \n",
       "1           no_enrollment        Graduate             STEM      15-20   \n",
       "2        Full time course        Graduate             STEM        5-9   \n",
       "3                   Other        Graduate         Non-STEM         <5   \n",
       "4           no_enrollment         Masters             STEM        >20   \n",
       "...                   ...             ...              ...        ...   \n",
       "19153       no_enrollment        Graduate         Non-STEM      10-14   \n",
       "19154       no_enrollment        Graduate             STEM      10-14   \n",
       "19155       no_enrollment        Graduate             STEM        >20   \n",
       "19156       no_enrollment     High School         Non-STEM         <5   \n",
       "19157       no_enrollment  Primary School         Non-STEM         <5   \n",
       "\n",
       "         company_type last_new_job  training_hours  target  \n",
       "0               Other            1            36.0     1.0  \n",
       "1             Pvt Ltd           >4            47.0     0.0  \n",
       "2               Other        never            83.0     0.0  \n",
       "3             Pvt Ltd        never            52.0     1.0  \n",
       "4      Funded Startup            4             8.0     0.0  \n",
       "...               ...          ...             ...     ...  \n",
       "19153           Other            1            42.0     1.0  \n",
       "19154           Other            4            52.0     1.0  \n",
       "19155         Pvt Ltd            4            44.0     0.0  \n",
       "19156         Pvt Ltd            2            97.0     0.0  \n",
       "19157           Other            1           127.0     0.0  \n",
       "\n",
       "[19158 rows x 11 columns]"
      ]
     },
     "execution_count": 56,
     "metadata": {},
     "output_type": "execute_result"
    }
   ],
   "source": [
    "hrTrain"
   ]
  },
  {
   "cell_type": "code",
   "execution_count": 57,
   "metadata": {},
   "outputs": [
    {
     "data": {
      "text/html": [
       "<div>\n",
       "<style scoped>\n",
       "    .dataframe tbody tr th:only-of-type {\n",
       "        vertical-align: middle;\n",
       "    }\n",
       "\n",
       "    .dataframe tbody tr th {\n",
       "        vertical-align: top;\n",
       "    }\n",
       "\n",
       "    .dataframe thead th {\n",
       "        text-align: right;\n",
       "    }\n",
       "</style>\n",
       "<table border=\"1\" class=\"dataframe\">\n",
       "  <thead>\n",
       "    <tr style=\"text-align: right;\">\n",
       "      <th></th>\n",
       "      <th>city_development_index</th>\n",
       "      <th>training_hours</th>\n",
       "      <th>target</th>\n",
       "      <th>gender_Non-Male ID</th>\n",
       "      <th>relevent_experience_No relevent experience</th>\n",
       "      <th>enrolled_university_Other</th>\n",
       "      <th>enrolled_university_Part time course</th>\n",
       "      <th>enrolled_university_no_enrollment</th>\n",
       "      <th>education_level_High School</th>\n",
       "      <th>education_level_Masters</th>\n",
       "      <th>...</th>\n",
       "      <th>company_type_NGO</th>\n",
       "      <th>company_type_Other</th>\n",
       "      <th>company_type_Public Sector</th>\n",
       "      <th>company_type_Pvt Ltd</th>\n",
       "      <th>last_new_job_2</th>\n",
       "      <th>last_new_job_3</th>\n",
       "      <th>last_new_job_4</th>\n",
       "      <th>last_new_job_&gt;4</th>\n",
       "      <th>last_new_job_Other</th>\n",
       "      <th>last_new_job_never</th>\n",
       "    </tr>\n",
       "  </thead>\n",
       "  <tbody>\n",
       "    <tr>\n",
       "      <th>0</th>\n",
       "      <td>0.920</td>\n",
       "      <td>36.0</td>\n",
       "      <td>1.0</td>\n",
       "      <td>0</td>\n",
       "      <td>0</td>\n",
       "      <td>0</td>\n",
       "      <td>0</td>\n",
       "      <td>1</td>\n",
       "      <td>0</td>\n",
       "      <td>0</td>\n",
       "      <td>...</td>\n",
       "      <td>0</td>\n",
       "      <td>1</td>\n",
       "      <td>0</td>\n",
       "      <td>0</td>\n",
       "      <td>0</td>\n",
       "      <td>0</td>\n",
       "      <td>0</td>\n",
       "      <td>0</td>\n",
       "      <td>0</td>\n",
       "      <td>0</td>\n",
       "    </tr>\n",
       "    <tr>\n",
       "      <th>1</th>\n",
       "      <td>0.776</td>\n",
       "      <td>47.0</td>\n",
       "      <td>0.0</td>\n",
       "      <td>0</td>\n",
       "      <td>1</td>\n",
       "      <td>0</td>\n",
       "      <td>0</td>\n",
       "      <td>1</td>\n",
       "      <td>0</td>\n",
       "      <td>0</td>\n",
       "      <td>...</td>\n",
       "      <td>0</td>\n",
       "      <td>0</td>\n",
       "      <td>0</td>\n",
       "      <td>1</td>\n",
       "      <td>0</td>\n",
       "      <td>0</td>\n",
       "      <td>0</td>\n",
       "      <td>1</td>\n",
       "      <td>0</td>\n",
       "      <td>0</td>\n",
       "    </tr>\n",
       "    <tr>\n",
       "      <th>2</th>\n",
       "      <td>0.624</td>\n",
       "      <td>83.0</td>\n",
       "      <td>0.0</td>\n",
       "      <td>1</td>\n",
       "      <td>1</td>\n",
       "      <td>0</td>\n",
       "      <td>0</td>\n",
       "      <td>0</td>\n",
       "      <td>0</td>\n",
       "      <td>0</td>\n",
       "      <td>...</td>\n",
       "      <td>0</td>\n",
       "      <td>1</td>\n",
       "      <td>0</td>\n",
       "      <td>0</td>\n",
       "      <td>0</td>\n",
       "      <td>0</td>\n",
       "      <td>0</td>\n",
       "      <td>0</td>\n",
       "      <td>0</td>\n",
       "      <td>1</td>\n",
       "    </tr>\n",
       "    <tr>\n",
       "      <th>3</th>\n",
       "      <td>0.789</td>\n",
       "      <td>52.0</td>\n",
       "      <td>1.0</td>\n",
       "      <td>1</td>\n",
       "      <td>1</td>\n",
       "      <td>1</td>\n",
       "      <td>0</td>\n",
       "      <td>0</td>\n",
       "      <td>0</td>\n",
       "      <td>0</td>\n",
       "      <td>...</td>\n",
       "      <td>0</td>\n",
       "      <td>0</td>\n",
       "      <td>0</td>\n",
       "      <td>1</td>\n",
       "      <td>0</td>\n",
       "      <td>0</td>\n",
       "      <td>0</td>\n",
       "      <td>0</td>\n",
       "      <td>0</td>\n",
       "      <td>1</td>\n",
       "    </tr>\n",
       "    <tr>\n",
       "      <th>4</th>\n",
       "      <td>0.767</td>\n",
       "      <td>8.0</td>\n",
       "      <td>0.0</td>\n",
       "      <td>0</td>\n",
       "      <td>0</td>\n",
       "      <td>0</td>\n",
       "      <td>0</td>\n",
       "      <td>1</td>\n",
       "      <td>0</td>\n",
       "      <td>1</td>\n",
       "      <td>...</td>\n",
       "      <td>0</td>\n",
       "      <td>0</td>\n",
       "      <td>0</td>\n",
       "      <td>0</td>\n",
       "      <td>0</td>\n",
       "      <td>0</td>\n",
       "      <td>1</td>\n",
       "      <td>0</td>\n",
       "      <td>0</td>\n",
       "      <td>0</td>\n",
       "    </tr>\n",
       "    <tr>\n",
       "      <th>...</th>\n",
       "      <td>...</td>\n",
       "      <td>...</td>\n",
       "      <td>...</td>\n",
       "      <td>...</td>\n",
       "      <td>...</td>\n",
       "      <td>...</td>\n",
       "      <td>...</td>\n",
       "      <td>...</td>\n",
       "      <td>...</td>\n",
       "      <td>...</td>\n",
       "      <td>...</td>\n",
       "      <td>...</td>\n",
       "      <td>...</td>\n",
       "      <td>...</td>\n",
       "      <td>...</td>\n",
       "      <td>...</td>\n",
       "      <td>...</td>\n",
       "      <td>...</td>\n",
       "      <td>...</td>\n",
       "      <td>...</td>\n",
       "      <td>...</td>\n",
       "    </tr>\n",
       "    <tr>\n",
       "      <th>19153</th>\n",
       "      <td>0.878</td>\n",
       "      <td>42.0</td>\n",
       "      <td>1.0</td>\n",
       "      <td>0</td>\n",
       "      <td>1</td>\n",
       "      <td>0</td>\n",
       "      <td>0</td>\n",
       "      <td>1</td>\n",
       "      <td>0</td>\n",
       "      <td>0</td>\n",
       "      <td>...</td>\n",
       "      <td>0</td>\n",
       "      <td>1</td>\n",
       "      <td>0</td>\n",
       "      <td>0</td>\n",
       "      <td>0</td>\n",
       "      <td>0</td>\n",
       "      <td>0</td>\n",
       "      <td>0</td>\n",
       "      <td>0</td>\n",
       "      <td>0</td>\n",
       "    </tr>\n",
       "    <tr>\n",
       "      <th>19154</th>\n",
       "      <td>0.920</td>\n",
       "      <td>52.0</td>\n",
       "      <td>1.0</td>\n",
       "      <td>0</td>\n",
       "      <td>0</td>\n",
       "      <td>0</td>\n",
       "      <td>0</td>\n",
       "      <td>1</td>\n",
       "      <td>0</td>\n",
       "      <td>0</td>\n",
       "      <td>...</td>\n",
       "      <td>0</td>\n",
       "      <td>1</td>\n",
       "      <td>0</td>\n",
       "      <td>0</td>\n",
       "      <td>0</td>\n",
       "      <td>0</td>\n",
       "      <td>1</td>\n",
       "      <td>0</td>\n",
       "      <td>0</td>\n",
       "      <td>0</td>\n",
       "    </tr>\n",
       "    <tr>\n",
       "      <th>19155</th>\n",
       "      <td>0.920</td>\n",
       "      <td>44.0</td>\n",
       "      <td>0.0</td>\n",
       "      <td>0</td>\n",
       "      <td>0</td>\n",
       "      <td>0</td>\n",
       "      <td>0</td>\n",
       "      <td>1</td>\n",
       "      <td>0</td>\n",
       "      <td>0</td>\n",
       "      <td>...</td>\n",
       "      <td>0</td>\n",
       "      <td>0</td>\n",
       "      <td>0</td>\n",
       "      <td>1</td>\n",
       "      <td>0</td>\n",
       "      <td>0</td>\n",
       "      <td>1</td>\n",
       "      <td>0</td>\n",
       "      <td>0</td>\n",
       "      <td>0</td>\n",
       "    </tr>\n",
       "    <tr>\n",
       "      <th>19156</th>\n",
       "      <td>0.802</td>\n",
       "      <td>97.0</td>\n",
       "      <td>0.0</td>\n",
       "      <td>0</td>\n",
       "      <td>0</td>\n",
       "      <td>0</td>\n",
       "      <td>0</td>\n",
       "      <td>1</td>\n",
       "      <td>1</td>\n",
       "      <td>0</td>\n",
       "      <td>...</td>\n",
       "      <td>0</td>\n",
       "      <td>0</td>\n",
       "      <td>0</td>\n",
       "      <td>1</td>\n",
       "      <td>1</td>\n",
       "      <td>0</td>\n",
       "      <td>0</td>\n",
       "      <td>0</td>\n",
       "      <td>0</td>\n",
       "      <td>0</td>\n",
       "    </tr>\n",
       "    <tr>\n",
       "      <th>19157</th>\n",
       "      <td>0.855</td>\n",
       "      <td>127.0</td>\n",
       "      <td>0.0</td>\n",
       "      <td>1</td>\n",
       "      <td>1</td>\n",
       "      <td>0</td>\n",
       "      <td>0</td>\n",
       "      <td>1</td>\n",
       "      <td>0</td>\n",
       "      <td>0</td>\n",
       "      <td>...</td>\n",
       "      <td>0</td>\n",
       "      <td>1</td>\n",
       "      <td>0</td>\n",
       "      <td>0</td>\n",
       "      <td>0</td>\n",
       "      <td>0</td>\n",
       "      <td>0</td>\n",
       "      <td>0</td>\n",
       "      <td>0</td>\n",
       "      <td>0</td>\n",
       "    </tr>\n",
       "  </tbody>\n",
       "</table>\n",
       "<p>19158 rows × 29 columns</p>\n",
       "</div>"
      ],
      "text/plain": [
       "       city_development_index  training_hours  target  gender_Non-Male ID  \\\n",
       "0                       0.920            36.0     1.0                   0   \n",
       "1                       0.776            47.0     0.0                   0   \n",
       "2                       0.624            83.0     0.0                   1   \n",
       "3                       0.789            52.0     1.0                   1   \n",
       "4                       0.767             8.0     0.0                   0   \n",
       "...                       ...             ...     ...                 ...   \n",
       "19153                   0.878            42.0     1.0                   0   \n",
       "19154                   0.920            52.0     1.0                   0   \n",
       "19155                   0.920            44.0     0.0                   0   \n",
       "19156                   0.802            97.0     0.0                   0   \n",
       "19157                   0.855           127.0     0.0                   1   \n",
       "\n",
       "       relevent_experience_No relevent experience  enrolled_university_Other  \\\n",
       "0                                               0                          0   \n",
       "1                                               1                          0   \n",
       "2                                               1                          0   \n",
       "3                                               1                          1   \n",
       "4                                               0                          0   \n",
       "...                                           ...                        ...   \n",
       "19153                                           1                          0   \n",
       "19154                                           0                          0   \n",
       "19155                                           0                          0   \n",
       "19156                                           0                          0   \n",
       "19157                                           1                          0   \n",
       "\n",
       "       enrolled_university_Part time course  \\\n",
       "0                                         0   \n",
       "1                                         0   \n",
       "2                                         0   \n",
       "3                                         0   \n",
       "4                                         0   \n",
       "...                                     ...   \n",
       "19153                                     0   \n",
       "19154                                     0   \n",
       "19155                                     0   \n",
       "19156                                     0   \n",
       "19157                                     0   \n",
       "\n",
       "       enrolled_university_no_enrollment  education_level_High School  \\\n",
       "0                                      1                            0   \n",
       "1                                      1                            0   \n",
       "2                                      0                            0   \n",
       "3                                      0                            0   \n",
       "4                                      1                            0   \n",
       "...                                  ...                          ...   \n",
       "19153                                  1                            0   \n",
       "19154                                  1                            0   \n",
       "19155                                  1                            0   \n",
       "19156                                  1                            1   \n",
       "19157                                  1                            0   \n",
       "\n",
       "       education_level_Masters  ...  company_type_NGO  company_type_Other  \\\n",
       "0                            0  ...                 0                   1   \n",
       "1                            0  ...                 0                   0   \n",
       "2                            0  ...                 0                   1   \n",
       "3                            0  ...                 0                   0   \n",
       "4                            1  ...                 0                   0   \n",
       "...                        ...  ...               ...                 ...   \n",
       "19153                        0  ...                 0                   1   \n",
       "19154                        0  ...                 0                   1   \n",
       "19155                        0  ...                 0                   0   \n",
       "19156                        0  ...                 0                   0   \n",
       "19157                        0  ...                 0                   1   \n",
       "\n",
       "       company_type_Public Sector  company_type_Pvt Ltd  last_new_job_2  \\\n",
       "0                               0                     0               0   \n",
       "1                               0                     1               0   \n",
       "2                               0                     0               0   \n",
       "3                               0                     1               0   \n",
       "4                               0                     0               0   \n",
       "...                           ...                   ...             ...   \n",
       "19153                           0                     0               0   \n",
       "19154                           0                     0               0   \n",
       "19155                           0                     1               0   \n",
       "19156                           0                     1               1   \n",
       "19157                           0                     0               0   \n",
       "\n",
       "       last_new_job_3  last_new_job_4  last_new_job_>4  last_new_job_Other  \\\n",
       "0                   0               0                0                   0   \n",
       "1                   0               0                1                   0   \n",
       "2                   0               0                0                   0   \n",
       "3                   0               0                0                   0   \n",
       "4                   0               1                0                   0   \n",
       "...               ...             ...              ...                 ...   \n",
       "19153               0               0                0                   0   \n",
       "19154               0               1                0                   0   \n",
       "19155               0               1                0                   0   \n",
       "19156               0               0                0                   0   \n",
       "19157               0               0                0                   0   \n",
       "\n",
       "       last_new_job_never  \n",
       "0                       0  \n",
       "1                       0  \n",
       "2                       1  \n",
       "3                       1  \n",
       "4                       0  \n",
       "...                   ...  \n",
       "19153                   0  \n",
       "19154                   0  \n",
       "19155                   0  \n",
       "19156                   0  \n",
       "19157                   0  \n",
       "\n",
       "[19158 rows x 29 columns]"
      ]
     },
     "execution_count": 57,
     "metadata": {},
     "output_type": "execute_result"
    }
   ],
   "source": [
    "hrTrain = pd.get_dummies(hrTrain, drop_first = True)\n",
    "hrTest = pd.get_dummies(hrTest, drop_first = True)\n",
    "hrTrain"
   ]
  },
  {
   "cell_type": "code",
   "execution_count": 58,
   "metadata": {},
   "outputs": [
    {
     "data": {
      "image/png": "[encoded data removed]",
      "text/plain": [
       "<Figure size 1152x1152 with 2 Axes>"
      ]
     },
     "metadata": {
      "needs_background": "light"
     },
     "output_type": "display_data"
    }
   ],
   "source": [
    "corr = hrTrain.corr()\n",
    "\n",
    "mask = np.triu(np.ones_like(corr, dtype=bool))\n",
    "cmap = sns.diverging_palette(230, 20, as_cmap=True)\n",
    "\n",
    "plt.figure(figsize = (16,16))\n",
    "sns.heatmap(corr, mask=mask, cmap=cmap, vmax=.3, center=0,\n",
    "            square=True, linewidths=.5, cbar_kws={\"shrink\": .5})\n",
    "plt.show()"
   ]
  },
  {
   "cell_type": "code",
   "execution_count": 59,
   "metadata": {},
   "outputs": [
    {
     "data": {
      "text/html": [
       "<div>\n",
       "<style scoped>\n",
       "    .dataframe tbody tr th:only-of-type {\n",
       "        vertical-align: middle;\n",
       "    }\n",
       "\n",
       "    .dataframe tbody tr th {\n",
       "        vertical-align: top;\n",
       "    }\n",
       "\n",
       "    .dataframe thead th {\n",
       "        text-align: right;\n",
       "    }\n",
       "</style>\n",
       "<table border=\"1\" class=\"dataframe\">\n",
       "  <thead>\n",
       "    <tr style=\"text-align: right;\">\n",
       "      <th></th>\n",
       "      <th>VAR1</th>\n",
       "      <th>VAR2</th>\n",
       "      <th>Correlation</th>\n",
       "    </tr>\n",
       "  </thead>\n",
       "  <tbody>\n",
       "    <tr>\n",
       "      <th>144</th>\n",
       "      <td>relevent_experience_No relevent experience</td>\n",
       "      <td>last_new_job_never</td>\n",
       "      <td>0.370292</td>\n",
       "    </tr>\n",
       "    <tr>\n",
       "      <th>816</th>\n",
       "      <td>last_new_job_never</td>\n",
       "      <td>relevent_experience_No relevent experience</td>\n",
       "      <td>0.370292</td>\n",
       "    </tr>\n",
       "    <tr>\n",
       "      <th>584</th>\n",
       "      <td>company_type_Other</td>\n",
       "      <td>relevent_experience_No relevent experience</td>\n",
       "      <td>0.354971</td>\n",
       "    </tr>\n",
       "    <tr>\n",
       "      <th>136</th>\n",
       "      <td>relevent_experience_No relevent experience</td>\n",
       "      <td>company_type_Other</td>\n",
       "      <td>0.354971</td>\n",
       "    </tr>\n",
       "    <tr>\n",
       "      <th>468</th>\n",
       "      <td>experience_&lt;5</td>\n",
       "      <td>relevent_experience_No relevent experience</td>\n",
       "      <td>0.352570</td>\n",
       "    </tr>\n",
       "    <tr>\n",
       "      <th>...</th>\n",
       "      <td>...</td>\n",
       "      <td>...</td>\n",
       "      <td>...</td>\n",
       "    </tr>\n",
       "    <tr>\n",
       "      <th>181</th>\n",
       "      <td>enrolled_university_Part time course</td>\n",
       "      <td>enrolled_university_no_enrollment</td>\n",
       "      <td>-0.415404</td>\n",
       "    </tr>\n",
       "    <tr>\n",
       "      <th>385</th>\n",
       "      <td>major_discipline_STEM</td>\n",
       "      <td>education_level_High School</td>\n",
       "      <td>-0.604542</td>\n",
       "    </tr>\n",
       "    <tr>\n",
       "      <th>245</th>\n",
       "      <td>education_level_High School</td>\n",
       "      <td>major_discipline_STEM</td>\n",
       "      <td>-0.604542</td>\n",
       "    </tr>\n",
       "    <tr>\n",
       "      <th>658</th>\n",
       "      <td>company_type_Pvt Ltd</td>\n",
       "      <td>company_type_Other</td>\n",
       "      <td>-0.714283</td>\n",
       "    </tr>\n",
       "    <tr>\n",
       "      <th>602</th>\n",
       "      <td>company_type_Other</td>\n",
       "      <td>company_type_Pvt Ltd</td>\n",
       "      <td>-0.714283</td>\n",
       "    </tr>\n",
       "  </tbody>\n",
       "</table>\n",
       "<p>812 rows × 3 columns</p>\n",
       "</div>"
      ],
      "text/plain": [
       "                                           VAR1  \\\n",
       "144  relevent_experience_No relevent experience   \n",
       "816                          last_new_job_never   \n",
       "584                          company_type_Other   \n",
       "136  relevent_experience_No relevent experience   \n",
       "468                               experience_<5   \n",
       "..                                          ...   \n",
       "181        enrolled_university_Part time course   \n",
       "385                       major_discipline_STEM   \n",
       "245                 education_level_High School   \n",
       "658                        company_type_Pvt Ltd   \n",
       "602                          company_type_Other   \n",
       "\n",
       "                                           VAR2  Correlation  \n",
       "144                          last_new_job_never     0.370292  \n",
       "816  relevent_experience_No relevent experience     0.370292  \n",
       "584  relevent_experience_No relevent experience     0.354971  \n",
       "136                          company_type_Other     0.354971  \n",
       "468  relevent_experience_No relevent experience     0.352570  \n",
       "..                                          ...          ...  \n",
       "181           enrolled_university_no_enrollment    -0.415404  \n",
       "385                 education_level_High School    -0.604542  \n",
       "245                       major_discipline_STEM    -0.604542  \n",
       "658                          company_type_Other    -0.714283  \n",
       "602                        company_type_Pvt Ltd    -0.714283  \n",
       "\n",
       "[812 rows x 3 columns]"
      ]
     },
     "execution_count": 59,
     "metadata": {},
     "output_type": "execute_result"
    }
   ],
   "source": [
    "corrTrain = hrTrain.corr()\n",
    "corrDF = corrTrain.unstack().reset_index()\n",
    "corrDF.columns = ['VAR1', 'VAR2', 'Correlation']\n",
    "corrDF = corrDF[corrDF.Correlation != 1.0]\n",
    "corrDF = corrDF[corrDF.Correlation != -1.0]\n",
    "corrDF.sort_values(by='Correlation', ascending=False, inplace=True)\n",
    "corrDF"
   ]
  },
  {
   "cell_type": "code",
   "execution_count": 60,
   "metadata": {},
   "outputs": [],
   "source": [
    "scaler = StandardScaler()\n",
    "hrTrain[['city_development_index', 'training_hours']] = scaler.fit_transform(hrTrain[['city_development_index', 'training_hours']])\n",
    "hrTest[['city_development_index', 'training_hours']] = scaler.fit_transform(hrTest[['city_development_index', 'training_hours']])"
   ]
  },
  {
   "cell_type": "code",
   "execution_count": 61,
   "metadata": {},
   "outputs": [],
   "source": [
    "X = hrTrain.drop(['target'], axis = 1)\n",
    "Y = pd.DataFrame(hrTrain['target'])\n",
    "\n",
    "overSample = SMOTE(random_state = 12)\n",
    "Xsm, Ysm = overSample.fit_resample(X, Y)"
   ]
  },
  {
   "cell_type": "code",
   "execution_count": 62,
   "metadata": {},
   "outputs": [
    {
     "name": "stdout",
     "output_type": "stream",
     "text": [
      "Before resampling there were 14381 NON_TARGETTED enrollees\n",
      "Before resampling there were 4777 TARGETTED enrollees\n",
      "After resampling there were 14381 NON_TARGETTED enrollees\n",
      "After resampling there were 14381 TARGETTED enrollees\n"
     ]
    },
    {
     "data": {
      "image/png": "[encoded data removed]",
      "text/plain": [
       "<Figure size 432x288 with 1 Axes>"
      ]
     },
     "metadata": {},
     "output_type": "display_data"
    }
   ],
   "source": [
    "print(f\"Before resampling there were {len(Y.loc[(Y['target'] == 0.0)])} NON_TARGETTED enrollees\")\n",
    "print(f\"Before resampling there were {len(Y.loc[(Y['target'] == 1.0)])} TARGETTED enrollees\")\n",
    "print(f\"After resampling there were {len(Ysm.loc[(Ysm['target'] == 0.0)])} NON_TARGETTED enrollees\")\n",
    "print(f\"After resampling there were {len(Ysm.loc[(Ysm['target'] == 1.0)])} TARGETTED enrollees\")\n",
    "\n",
    "targetCountsSM = Ysm['target'].value_counts()\n",
    "plt.pie(targetCountsSM, explode = (0, 0.1), labels = ['Non-Target', 'Target'], autopct='%1.1f%%', radius = 3, labeldistance = -0.5)\n",
    "plt.show()"
   ]
  },
  {
   "cell_type": "markdown",
   "metadata": {},
   "source": [
    "RFECV"
   ]
  },
  {
   "cell_type": "code",
   "execution_count": 63,
   "metadata": {},
   "outputs": [
    {
     "name": "stdout",
     "output_type": "stream",
     "text": [
      "Wall time: 8.66 s\n"
     ]
    }
   ],
   "source": [
    "%%time\n",
    "estimator = LogisticRegression()\n",
    "selector = RFECV(estimator, step = 1, cv = 5)\n",
    "selector = selector.fit(Xsm, Ysm)"
   ]
  },
  {
   "cell_type": "code",
   "execution_count": 64,
   "metadata": {},
   "outputs": [
    {
     "data": {
      "text/plain": [
       "[('city_development_index', True, 1),\n",
       " ('training_hours', False, 15),\n",
       " ('gender_Non-Male ID', False, 14),\n",
       " ('relevent_experience_No relevent experience', False, 13),\n",
       " ('enrolled_university_Other', True, 1),\n",
       " ('enrolled_university_Part time course', True, 1),\n",
       " ('enrolled_university_no_enrollment', True, 1),\n",
       " ('education_level_High School', True, 1),\n",
       " ('education_level_Masters', True, 1),\n",
       " ('education_level_Other', True, 1),\n",
       " ('education_level_Phd', True, 1),\n",
       " ('education_level_Primary School', True, 1),\n",
       " ('major_discipline_STEM', False, 5),\n",
       " ('experience_15-20', False, 6),\n",
       " ('experience_5-9', False, 11),\n",
       " ('experience_<5', False, 16),\n",
       " ('experience_>20', False, 8),\n",
       " ('company_type_Funded Startup', True, 1),\n",
       " ('company_type_NGO', True, 1),\n",
       " ('company_type_Other', False, 4),\n",
       " ('company_type_Public Sector', True, 1),\n",
       " ('company_type_Pvt Ltd', True, 1),\n",
       " ('last_new_job_2', False, 10),\n",
       " ('last_new_job_3', False, 9),\n",
       " ('last_new_job_4', False, 7),\n",
       " ('last_new_job_>4', False, 12),\n",
       " ('last_new_job_Other', False, 2),\n",
       " ('last_new_job_never', False, 3)]"
      ]
     },
     "execution_count": 64,
     "metadata": {},
     "output_type": "execute_result"
    }
   ],
   "source": [
    "list(zip(Xsm.columns, selector.support_, selector.ranking_))"
   ]
  },
  {
   "cell_type": "code",
   "execution_count": 65,
   "metadata": {},
   "outputs": [
    {
     "data": {
      "text/plain": [
       "Index(['city_development_index', 'enrolled_university_Other',\n",
       "       'enrolled_university_Part time course',\n",
       "       'enrolled_university_no_enrollment', 'education_level_High School',\n",
       "       'education_level_Masters', 'education_level_Other',\n",
       "       'education_level_Phd', 'education_level_Primary School',\n",
       "       'company_type_Funded Startup', 'company_type_NGO',\n",
       "       'company_type_Public Sector', 'company_type_Pvt Ltd'],\n",
       "      dtype='object')"
      ]
     },
     "execution_count": 65,
     "metadata": {},
     "output_type": "execute_result"
    }
   ],
   "source": [
    "Xsm.columns[selector.support_]"
   ]
  },
  {
   "cell_type": "code",
   "execution_count": 66,
   "metadata": {},
   "outputs": [
    {
     "data": {
      "text/plain": [
       "Index(['training_hours', 'gender_Non-Male ID',\n",
       "       'relevent_experience_No relevent experience', 'major_discipline_STEM',\n",
       "       'experience_15-20', 'experience_5-9', 'experience_<5', 'experience_>20',\n",
       "       'company_type_Other', 'last_new_job_2', 'last_new_job_3',\n",
       "       'last_new_job_4', 'last_new_job_>4', 'last_new_job_Other',\n",
       "       'last_new_job_never'],\n",
       "      dtype='object')"
      ]
     },
     "execution_count": 66,
     "metadata": {},
     "output_type": "execute_result"
    }
   ],
   "source": [
    "Xsm.columns[~selector.support_]"
   ]
  },
  {
   "cell_type": "code",
   "execution_count": 67,
   "metadata": {},
   "outputs": [
    {
     "data": {
      "text/html": [
       "<div>\n",
       "<style scoped>\n",
       "    .dataframe tbody tr th:only-of-type {\n",
       "        vertical-align: middle;\n",
       "    }\n",
       "\n",
       "    .dataframe tbody tr th {\n",
       "        vertical-align: top;\n",
       "    }\n",
       "\n",
       "    .dataframe thead th {\n",
       "        text-align: right;\n",
       "    }\n",
       "</style>\n",
       "<table border=\"1\" class=\"dataframe\">\n",
       "  <thead>\n",
       "    <tr style=\"text-align: right;\">\n",
       "      <th></th>\n",
       "      <th>city_development_index</th>\n",
       "      <th>enrolled_university_Other</th>\n",
       "      <th>enrolled_university_Part time course</th>\n",
       "      <th>enrolled_university_no_enrollment</th>\n",
       "      <th>education_level_High School</th>\n",
       "      <th>education_level_Masters</th>\n",
       "      <th>education_level_Other</th>\n",
       "      <th>education_level_Phd</th>\n",
       "      <th>education_level_Primary School</th>\n",
       "      <th>company_type_Funded Startup</th>\n",
       "      <th>company_type_NGO</th>\n",
       "      <th>company_type_Public Sector</th>\n",
       "      <th>company_type_Pvt Ltd</th>\n",
       "    </tr>\n",
       "  </thead>\n",
       "  <tbody>\n",
       "    <tr>\n",
       "      <th>0</th>\n",
       "      <td>0.738919</td>\n",
       "      <td>0</td>\n",
       "      <td>0</td>\n",
       "      <td>1</td>\n",
       "      <td>0</td>\n",
       "      <td>0</td>\n",
       "      <td>0</td>\n",
       "      <td>0</td>\n",
       "      <td>0</td>\n",
       "      <td>0</td>\n",
       "      <td>0</td>\n",
       "      <td>0</td>\n",
       "      <td>0</td>\n",
       "    </tr>\n",
       "    <tr>\n",
       "      <th>1</th>\n",
       "      <td>-0.428410</td>\n",
       "      <td>0</td>\n",
       "      <td>0</td>\n",
       "      <td>1</td>\n",
       "      <td>0</td>\n",
       "      <td>0</td>\n",
       "      <td>0</td>\n",
       "      <td>0</td>\n",
       "      <td>0</td>\n",
       "      <td>0</td>\n",
       "      <td>0</td>\n",
       "      <td>0</td>\n",
       "      <td>1</td>\n",
       "    </tr>\n",
       "    <tr>\n",
       "      <th>2</th>\n",
       "      <td>-1.660590</td>\n",
       "      <td>0</td>\n",
       "      <td>0</td>\n",
       "      <td>0</td>\n",
       "      <td>0</td>\n",
       "      <td>0</td>\n",
       "      <td>0</td>\n",
       "      <td>0</td>\n",
       "      <td>0</td>\n",
       "      <td>0</td>\n",
       "      <td>0</td>\n",
       "      <td>0</td>\n",
       "      <td>0</td>\n",
       "    </tr>\n",
       "    <tr>\n",
       "      <th>3</th>\n",
       "      <td>-0.323026</td>\n",
       "      <td>1</td>\n",
       "      <td>0</td>\n",
       "      <td>0</td>\n",
       "      <td>0</td>\n",
       "      <td>0</td>\n",
       "      <td>0</td>\n",
       "      <td>0</td>\n",
       "      <td>0</td>\n",
       "      <td>0</td>\n",
       "      <td>0</td>\n",
       "      <td>0</td>\n",
       "      <td>1</td>\n",
       "    </tr>\n",
       "    <tr>\n",
       "      <th>4</th>\n",
       "      <td>-0.501368</td>\n",
       "      <td>0</td>\n",
       "      <td>0</td>\n",
       "      <td>1</td>\n",
       "      <td>0</td>\n",
       "      <td>1</td>\n",
       "      <td>0</td>\n",
       "      <td>0</td>\n",
       "      <td>0</td>\n",
       "      <td>1</td>\n",
       "      <td>0</td>\n",
       "      <td>0</td>\n",
       "      <td>0</td>\n",
       "    </tr>\n",
       "    <tr>\n",
       "      <th>...</th>\n",
       "      <td>...</td>\n",
       "      <td>...</td>\n",
       "      <td>...</td>\n",
       "      <td>...</td>\n",
       "      <td>...</td>\n",
       "      <td>...</td>\n",
       "      <td>...</td>\n",
       "      <td>...</td>\n",
       "      <td>...</td>\n",
       "      <td>...</td>\n",
       "      <td>...</td>\n",
       "      <td>...</td>\n",
       "      <td>...</td>\n",
       "    </tr>\n",
       "    <tr>\n",
       "      <th>28757</th>\n",
       "      <td>-2.243728</td>\n",
       "      <td>0</td>\n",
       "      <td>0</td>\n",
       "      <td>1</td>\n",
       "      <td>0</td>\n",
       "      <td>0</td>\n",
       "      <td>0</td>\n",
       "      <td>0</td>\n",
       "      <td>0</td>\n",
       "      <td>0</td>\n",
       "      <td>0</td>\n",
       "      <td>0</td>\n",
       "      <td>0</td>\n",
       "    </tr>\n",
       "    <tr>\n",
       "      <th>28758</th>\n",
       "      <td>-1.640433</td>\n",
       "      <td>0</td>\n",
       "      <td>0</td>\n",
       "      <td>0</td>\n",
       "      <td>0</td>\n",
       "      <td>0</td>\n",
       "      <td>1</td>\n",
       "      <td>0</td>\n",
       "      <td>0</td>\n",
       "      <td>0</td>\n",
       "      <td>0</td>\n",
       "      <td>0</td>\n",
       "      <td>0</td>\n",
       "    </tr>\n",
       "    <tr>\n",
       "      <th>28759</th>\n",
       "      <td>-1.660590</td>\n",
       "      <td>0</td>\n",
       "      <td>0</td>\n",
       "      <td>1</td>\n",
       "      <td>0</td>\n",
       "      <td>0</td>\n",
       "      <td>0</td>\n",
       "      <td>0</td>\n",
       "      <td>0</td>\n",
       "      <td>0</td>\n",
       "      <td>0</td>\n",
       "      <td>0</td>\n",
       "      <td>0</td>\n",
       "    </tr>\n",
       "    <tr>\n",
       "      <th>28760</th>\n",
       "      <td>0.089842</td>\n",
       "      <td>0</td>\n",
       "      <td>0</td>\n",
       "      <td>1</td>\n",
       "      <td>0</td>\n",
       "      <td>1</td>\n",
       "      <td>0</td>\n",
       "      <td>0</td>\n",
       "      <td>0</td>\n",
       "      <td>0</td>\n",
       "      <td>0</td>\n",
       "      <td>0</td>\n",
       "      <td>0</td>\n",
       "    </tr>\n",
       "    <tr>\n",
       "      <th>28761</th>\n",
       "      <td>0.661658</td>\n",
       "      <td>0</td>\n",
       "      <td>0</td>\n",
       "      <td>0</td>\n",
       "      <td>0</td>\n",
       "      <td>0</td>\n",
       "      <td>0</td>\n",
       "      <td>0</td>\n",
       "      <td>0</td>\n",
       "      <td>0</td>\n",
       "      <td>0</td>\n",
       "      <td>0</td>\n",
       "      <td>0</td>\n",
       "    </tr>\n",
       "  </tbody>\n",
       "</table>\n",
       "<p>28762 rows × 13 columns</p>\n",
       "</div>"
      ],
      "text/plain": [
       "       city_development_index  enrolled_university_Other  \\\n",
       "0                    0.738919                          0   \n",
       "1                   -0.428410                          0   \n",
       "2                   -1.660590                          0   \n",
       "3                   -0.323026                          1   \n",
       "4                   -0.501368                          0   \n",
       "...                       ...                        ...   \n",
       "28757               -2.243728                          0   \n",
       "28758               -1.640433                          0   \n",
       "28759               -1.660590                          0   \n",
       "28760                0.089842                          0   \n",
       "28761                0.661658                          0   \n",
       "\n",
       "       enrolled_university_Part time course  \\\n",
       "0                                         0   \n",
       "1                                         0   \n",
       "2                                         0   \n",
       "3                                         0   \n",
       "4                                         0   \n",
       "...                                     ...   \n",
       "28757                                     0   \n",
       "28758                                     0   \n",
       "28759                                     0   \n",
       "28760                                     0   \n",
       "28761                                     0   \n",
       "\n",
       "       enrolled_university_no_enrollment  education_level_High School  \\\n",
       "0                                      1                            0   \n",
       "1                                      1                            0   \n",
       "2                                      0                            0   \n",
       "3                                      0                            0   \n",
       "4                                      1                            0   \n",
       "...                                  ...                          ...   \n",
       "28757                                  1                            0   \n",
       "28758                                  0                            0   \n",
       "28759                                  1                            0   \n",
       "28760                                  1                            0   \n",
       "28761                                  0                            0   \n",
       "\n",
       "       education_level_Masters  education_level_Other  education_level_Phd  \\\n",
       "0                            0                      0                    0   \n",
       "1                            0                      0                    0   \n",
       "2                            0                      0                    0   \n",
       "3                            0                      0                    0   \n",
       "4                            1                      0                    0   \n",
       "...                        ...                    ...                  ...   \n",
       "28757                        0                      0                    0   \n",
       "28758                        0                      1                    0   \n",
       "28759                        0                      0                    0   \n",
       "28760                        1                      0                    0   \n",
       "28761                        0                      0                    0   \n",
       "\n",
       "       education_level_Primary School  company_type_Funded Startup  \\\n",
       "0                                   0                            0   \n",
       "1                                   0                            0   \n",
       "2                                   0                            0   \n",
       "3                                   0                            0   \n",
       "4                                   0                            1   \n",
       "...                               ...                          ...   \n",
       "28757                               0                            0   \n",
       "28758                               0                            0   \n",
       "28759                               0                            0   \n",
       "28760                               0                            0   \n",
       "28761                               0                            0   \n",
       "\n",
       "       company_type_NGO  company_type_Public Sector  company_type_Pvt Ltd  \n",
       "0                     0                           0                     0  \n",
       "1                     0                           0                     1  \n",
       "2                     0                           0                     0  \n",
       "3                     0                           0                     1  \n",
       "4                     0                           0                     0  \n",
       "...                 ...                         ...                   ...  \n",
       "28757                 0                           0                     0  \n",
       "28758                 0                           0                     0  \n",
       "28759                 0                           0                     0  \n",
       "28760                 0                           0                     0  \n",
       "28761                 0                           0                     0  \n",
       "\n",
       "[28762 rows x 13 columns]"
      ]
     },
     "execution_count": 67,
     "metadata": {},
     "output_type": "execute_result"
    }
   ],
   "source": [
    "Xrfe = Xsm.drop(Xsm.columns[~selector.support_], axis = 1)\n",
    "Xrfe"
   ]
  },
  {
   "cell_type": "markdown",
   "metadata": {},
   "source": [
    "Logistic Regression"
   ]
  },
  {
   "cell_type": "code",
   "execution_count": 68,
   "metadata": {},
   "outputs": [],
   "source": [
    "def buildLogit(X, Y):\n",
    "    X_const = sm.add_constant(X)\n",
    "    hrModel = sm.Logit(Y, X_const).fit()\n",
    "    display(hrModel.summary())\n",
    "    return hrModel"
   ]
  },
  {
   "cell_type": "code",
   "execution_count": 69,
   "metadata": {},
   "outputs": [],
   "source": [
    "def buildVIF(X):\n",
    "    vif = pd.DataFrame()\n",
    "    vif['Category'] = X.columns\n",
    "    vif['VIF'] = [variance_inflation_factor(X.values,i) for i in range(X.shape[1])]\n",
    "    vif['VIF'] = round(vif['VIF'],2)\n",
    "    vif.sort_values(by='VIF', ascending = False, inplace=True)\n",
    "    return vif"
   ]
  },
  {
   "cell_type": "code",
   "execution_count": 70,
   "metadata": {},
   "outputs": [
    {
     "name": "stdout",
     "output_type": "stream",
     "text": [
      "Optimization terminated successfully.\n",
      "         Current function value: 0.552018\n",
      "         Iterations 6\n"
     ]
    },
    {
     "data": {
      "text/html": [
       "<table class=\"simpletable\">\n",
       "<caption>Logit Regression Results</caption>\n",
       "<tr>\n",
       "  <th>Dep. Variable:</th>        <td>target</td>      <th>  No. Observations:  </th>  <td> 28762</td> \n",
       "</tr>\n",
       "<tr>\n",
       "  <th>Model:</th>                 <td>Logit</td>      <th>  Df Residuals:      </th>  <td> 28733</td> \n",
       "</tr>\n",
       "<tr>\n",
       "  <th>Method:</th>                 <td>MLE</td>       <th>  Df Model:          </th>  <td>    28</td> \n",
       "</tr>\n",
       "<tr>\n",
       "  <th>Date:</th>            <td>Thu, 25 Feb 2021</td> <th>  Pseudo R-squ.:     </th>  <td>0.2036</td> \n",
       "</tr>\n",
       "<tr>\n",
       "  <th>Time:</th>                <td>10:20:31</td>     <th>  Log-Likelihood:    </th> <td> -15877.</td>\n",
       "</tr>\n",
       "<tr>\n",
       "  <th>converged:</th>             <td>True</td>       <th>  LL-Null:           </th> <td> -19936.</td>\n",
       "</tr>\n",
       "<tr>\n",
       "  <th>Covariance Type:</th>     <td>nonrobust</td>    <th>  LLR p-value:       </th>  <td> 0.000</td> \n",
       "</tr>\n",
       "</table>\n",
       "<table class=\"simpletable\">\n",
       "<tr>\n",
       "                       <td></td>                         <th>coef</th>     <th>std err</th>      <th>z</th>      <th>P>|z|</th>  <th>[0.025</th>    <th>0.975]</th>  \n",
       "</tr>\n",
       "<tr>\n",
       "  <th>const</th>                                      <td>    1.6309</td> <td>    0.092</td> <td>   17.702</td> <td> 0.000</td> <td>    1.450</td> <td>    1.811</td>\n",
       "</tr>\n",
       "<tr>\n",
       "  <th>city_development_index</th>                     <td>   -0.7710</td> <td>    0.015</td> <td>  -52.639</td> <td> 0.000</td> <td>   -0.800</td> <td>   -0.742</td>\n",
       "</tr>\n",
       "<tr>\n",
       "  <th>training_hours</th>                             <td>   -0.0803</td> <td>    0.014</td> <td>   -5.712</td> <td> 0.000</td> <td>   -0.108</td> <td>   -0.053</td>\n",
       "</tr>\n",
       "<tr>\n",
       "  <th>gender_Non-Male ID</th>                         <td>   -0.1046</td> <td>    0.031</td> <td>   -3.392</td> <td> 0.001</td> <td>   -0.165</td> <td>   -0.044</td>\n",
       "</tr>\n",
       "<tr>\n",
       "  <th>relevent_experience_No relevent experience</th> <td>    0.1560</td> <td>    0.038</td> <td>    4.068</td> <td> 0.000</td> <td>    0.081</td> <td>    0.231</td>\n",
       "</tr>\n",
       "<tr>\n",
       "  <th>enrolled_university_Other</th>                  <td>   -1.0651</td> <td>    0.114</td> <td>   -9.314</td> <td> 0.000</td> <td>   -1.289</td> <td>   -0.841</td>\n",
       "</tr>\n",
       "<tr>\n",
       "  <th>enrolled_university_Part time course</th>       <td>   -0.8995</td> <td>    0.066</td> <td>  -13.565</td> <td> 0.000</td> <td>   -1.030</td> <td>   -0.770</td>\n",
       "</tr>\n",
       "<tr>\n",
       "  <th>enrolled_university_no_enrollment</th>          <td>   -0.5667</td> <td>    0.038</td> <td>  -15.001</td> <td> 0.000</td> <td>   -0.641</td> <td>   -0.493</td>\n",
       "</tr>\n",
       "<tr>\n",
       "  <th>education_level_High School</th>                <td>   -1.4952</td> <td>    0.065</td> <td>  -22.910</td> <td> 0.000</td> <td>   -1.623</td> <td>   -1.367</td>\n",
       "</tr>\n",
       "<tr>\n",
       "  <th>education_level_Masters</th>                    <td>   -0.4950</td> <td>    0.035</td> <td>  -14.074</td> <td> 0.000</td> <td>   -0.564</td> <td>   -0.426</td>\n",
       "</tr>\n",
       "<tr>\n",
       "  <th>education_level_Other</th>                      <td>   -1.6222</td> <td>    0.113</td> <td>  -14.378</td> <td> 0.000</td> <td>   -1.843</td> <td>   -1.401</td>\n",
       "</tr>\n",
       "<tr>\n",
       "  <th>education_level_Phd</th>                        <td>   -0.9210</td> <td>    0.128</td> <td>   -7.184</td> <td> 0.000</td> <td>   -1.172</td> <td>   -0.670</td>\n",
       "</tr>\n",
       "<tr>\n",
       "  <th>education_level_Primary School</th>             <td>   -2.2641</td> <td>    0.159</td> <td>  -14.281</td> <td> 0.000</td> <td>   -2.575</td> <td>   -1.953</td>\n",
       "</tr>\n",
       "<tr>\n",
       "  <th>major_discipline_STEM</th>                      <td>   -0.3432</td> <td>    0.045</td> <td>   -7.679</td> <td> 0.000</td> <td>   -0.431</td> <td>   -0.256</td>\n",
       "</tr>\n",
       "<tr>\n",
       "  <th>experience_15-20</th>                           <td>   -0.4122</td> <td>    0.055</td> <td>   -7.509</td> <td> 0.000</td> <td>   -0.520</td> <td>   -0.305</td>\n",
       "</tr>\n",
       "<tr>\n",
       "  <th>experience_5-9</th>                             <td>   -0.2186</td> <td>    0.042</td> <td>   -5.246</td> <td> 0.000</td> <td>   -0.300</td> <td>   -0.137</td>\n",
       "</tr>\n",
       "<tr>\n",
       "  <th>experience_<5</th>                              <td>   -0.0777</td> <td>    0.045</td> <td>   -1.713</td> <td> 0.087</td> <td>   -0.167</td> <td>    0.011</td>\n",
       "</tr>\n",
       "<tr>\n",
       "  <th>experience_>20</th>                             <td>   -0.3147</td> <td>    0.051</td> <td>   -6.208</td> <td> 0.000</td> <td>   -0.414</td> <td>   -0.215</td>\n",
       "</tr>\n",
       "<tr>\n",
       "  <th>company_type_Funded Startup</th>                <td>   -1.3713</td> <td>    0.096</td> <td>  -14.240</td> <td> 0.000</td> <td>   -1.560</td> <td>   -1.183</td>\n",
       "</tr>\n",
       "<tr>\n",
       "  <th>company_type_NGO</th>                           <td>   -1.3370</td> <td>    0.120</td> <td>  -11.164</td> <td> 0.000</td> <td>   -1.572</td> <td>   -1.102</td>\n",
       "</tr>\n",
       "<tr>\n",
       "  <th>company_type_Other</th>                         <td>    0.3698</td> <td>    0.070</td> <td>    5.270</td> <td> 0.000</td> <td>    0.232</td> <td>    0.507</td>\n",
       "</tr>\n",
       "<tr>\n",
       "  <th>company_type_Public Sector</th>                 <td>   -0.5534</td> <td>    0.092</td> <td>   -6.013</td> <td> 0.000</td> <td>   -0.734</td> <td>   -0.373</td>\n",
       "</tr>\n",
       "<tr>\n",
       "  <th>company_type_Pvt Ltd</th>                       <td>   -0.8967</td> <td>    0.069</td> <td>  -13.044</td> <td> 0.000</td> <td>   -1.031</td> <td>   -0.762</td>\n",
       "</tr>\n",
       "<tr>\n",
       "  <th>last_new_job_2</th>                             <td>   -0.2507</td> <td>    0.042</td> <td>   -6.023</td> <td> 0.000</td> <td>   -0.332</td> <td>   -0.169</td>\n",
       "</tr>\n",
       "<tr>\n",
       "  <th>last_new_job_3</th>                             <td>   -0.3467</td> <td>    0.067</td> <td>   -5.141</td> <td> 0.000</td> <td>   -0.479</td> <td>   -0.215</td>\n",
       "</tr>\n",
       "<tr>\n",
       "  <th>last_new_job_4</th>                             <td>   -0.3689</td> <td>    0.069</td> <td>   -5.319</td> <td> 0.000</td> <td>   -0.505</td> <td>   -0.233</td>\n",
       "</tr>\n",
       "<tr>\n",
       "  <th>last_new_job_>4</th>                            <td>   -0.1885</td> <td>    0.045</td> <td>   -4.203</td> <td> 0.000</td> <td>   -0.276</td> <td>   -0.101</td>\n",
       "</tr>\n",
       "<tr>\n",
       "  <th>last_new_job_Other</th>                         <td>   -0.7351</td> <td>    0.101</td> <td>   -7.259</td> <td> 0.000</td> <td>   -0.934</td> <td>   -0.537</td>\n",
       "</tr>\n",
       "<tr>\n",
       "  <th>last_new_job_never</th>                         <td>   -0.7085</td> <td>    0.049</td> <td>  -14.599</td> <td> 0.000</td> <td>   -0.804</td> <td>   -0.613</td>\n",
       "</tr>\n",
       "</table>"
      ],
      "text/plain": [
       "<class 'statsmodels.iolib.summary.Summary'>\n",
       "\"\"\"\n",
       "                           Logit Regression Results                           \n",
       "==============================================================================\n",
       "Dep. Variable:                 target   No. Observations:                28762\n",
       "Model:                          Logit   Df Residuals:                    28733\n",
       "Method:                           MLE   Df Model:                           28\n",
       "Date:                Thu, 25 Feb 2021   Pseudo R-squ.:                  0.2036\n",
       "Time:                        10:20:31   Log-Likelihood:                -15877.\n",
       "converged:                       True   LL-Null:                       -19936.\n",
       "Covariance Type:            nonrobust   LLR p-value:                     0.000\n",
       "==============================================================================================================\n",
       "                                                 coef    std err          z      P>|z|      [0.025      0.975]\n",
       "--------------------------------------------------------------------------------------------------------------\n",
       "const                                          1.6309      0.092     17.702      0.000       1.450       1.811\n",
       "city_development_index                        -0.7710      0.015    -52.639      0.000      -0.800      -0.742\n",
       "training_hours                                -0.0803      0.014     -5.712      0.000      -0.108      -0.053\n",
       "gender_Non-Male ID                            -0.1046      0.031     -3.392      0.001      -0.165      -0.044\n",
       "relevent_experience_No relevent experience     0.1560      0.038      4.068      0.000       0.081       0.231\n",
       "enrolled_university_Other                     -1.0651      0.114     -9.314      0.000      -1.289      -0.841\n",
       "enrolled_university_Part time course          -0.8995      0.066    -13.565      0.000      -1.030      -0.770\n",
       "enrolled_university_no_enrollment             -0.5667      0.038    -15.001      0.000      -0.641      -0.493\n",
       "education_level_High School                   -1.4952      0.065    -22.910      0.000      -1.623      -1.367\n",
       "education_level_Masters                       -0.4950      0.035    -14.074      0.000      -0.564      -0.426\n",
       "education_level_Other                         -1.6222      0.113    -14.378      0.000      -1.843      -1.401\n",
       "education_level_Phd                           -0.9210      0.128     -7.184      0.000      -1.172      -0.670\n",
       "education_level_Primary School                -2.2641      0.159    -14.281      0.000      -2.575      -1.953\n",
       "major_discipline_STEM                         -0.3432      0.045     -7.679      0.000      -0.431      -0.256\n",
       "experience_15-20                              -0.4122      0.055     -7.509      0.000      -0.520      -0.305\n",
       "experience_5-9                                -0.2186      0.042     -5.246      0.000      -0.300      -0.137\n",
       "experience_<5                                 -0.0777      0.045     -1.713      0.087      -0.167       0.011\n",
       "experience_>20                                -0.3147      0.051     -6.208      0.000      -0.414      -0.215\n",
       "company_type_Funded Startup                   -1.3713      0.096    -14.240      0.000      -1.560      -1.183\n",
       "company_type_NGO                              -1.3370      0.120    -11.164      0.000      -1.572      -1.102\n",
       "company_type_Other                             0.3698      0.070      5.270      0.000       0.232       0.507\n",
       "company_type_Public Sector                    -0.5534      0.092     -6.013      0.000      -0.734      -0.373\n",
       "company_type_Pvt Ltd                          -0.8967      0.069    -13.044      0.000      -1.031      -0.762\n",
       "last_new_job_2                                -0.2507      0.042     -6.023      0.000      -0.332      -0.169\n",
       "last_new_job_3                                -0.3467      0.067     -5.141      0.000      -0.479      -0.215\n",
       "last_new_job_4                                -0.3689      0.069     -5.319      0.000      -0.505      -0.233\n",
       "last_new_job_>4                               -0.1885      0.045     -4.203      0.000      -0.276      -0.101\n",
       "last_new_job_Other                            -0.7351      0.101     -7.259      0.000      -0.934      -0.537\n",
       "last_new_job_never                            -0.7085      0.049    -14.599      0.000      -0.804      -0.613\n",
       "==============================================================================================================\n",
       "\"\"\""
      ]
     },
     "metadata": {},
     "output_type": "display_data"
    }
   ],
   "source": [
    "x1 = Xsm\n",
    "hrModel1 = buildLogit(x1, Ysm)"
   ]
  },
  {
   "cell_type": "code",
   "execution_count": 71,
   "metadata": {},
   "outputs": [
    {
     "data": {
      "text/html": [
       "<div>\n",
       "<style scoped>\n",
       "    .dataframe tbody tr th:only-of-type {\n",
       "        vertical-align: middle;\n",
       "    }\n",
       "\n",
       "    .dataframe tbody tr th {\n",
       "        vertical-align: top;\n",
       "    }\n",
       "\n",
       "    .dataframe thead th {\n",
       "        text-align: right;\n",
       "    }\n",
       "</style>\n",
       "<table border=\"1\" class=\"dataframe\">\n",
       "  <thead>\n",
       "    <tr style=\"text-align: right;\">\n",
       "      <th></th>\n",
       "      <th>Category</th>\n",
       "      <th>VIF</th>\n",
       "    </tr>\n",
       "  </thead>\n",
       "  <tbody>\n",
       "    <tr>\n",
       "      <th>21</th>\n",
       "      <td>company_type_Pvt Ltd</td>\n",
       "      <td>6.54</td>\n",
       "    </tr>\n",
       "    <tr>\n",
       "      <th>12</th>\n",
       "      <td>major_discipline_STEM</td>\n",
       "      <td>6.46</td>\n",
       "    </tr>\n",
       "    <tr>\n",
       "      <th>19</th>\n",
       "      <td>company_type_Other</td>\n",
       "      <td>5.49</td>\n",
       "    </tr>\n",
       "    <tr>\n",
       "      <th>6</th>\n",
       "      <td>enrolled_university_no_enrollment</td>\n",
       "      <td>4.34</td>\n",
       "    </tr>\n",
       "    <tr>\n",
       "      <th>15</th>\n",
       "      <td>experience_&lt;5</td>\n",
       "      <td>2.89</td>\n",
       "    </tr>\n",
       "    <tr>\n",
       "      <th>14</th>\n",
       "      <td>experience_5-9</td>\n",
       "      <td>2.50</td>\n",
       "    </tr>\n",
       "    <tr>\n",
       "      <th>3</th>\n",
       "      <td>relevent_experience_No relevent experience</td>\n",
       "      <td>2.27</td>\n",
       "    </tr>\n",
       "    <tr>\n",
       "      <th>16</th>\n",
       "      <td>experience_&gt;20</td>\n",
       "      <td>1.97</td>\n",
       "    </tr>\n",
       "    <tr>\n",
       "      <th>7</th>\n",
       "      <td>education_level_High School</td>\n",
       "      <td>1.80</td>\n",
       "    </tr>\n",
       "    <tr>\n",
       "      <th>25</th>\n",
       "      <td>last_new_job_&gt;4</td>\n",
       "      <td>1.64</td>\n",
       "    </tr>\n",
       "    <tr>\n",
       "      <th>13</th>\n",
       "      <td>experience_15-20</td>\n",
       "      <td>1.56</td>\n",
       "    </tr>\n",
       "    <tr>\n",
       "      <th>20</th>\n",
       "      <td>company_type_Public Sector</td>\n",
       "      <td>1.55</td>\n",
       "    </tr>\n",
       "    <tr>\n",
       "      <th>27</th>\n",
       "      <td>last_new_job_never</td>\n",
       "      <td>1.55</td>\n",
       "    </tr>\n",
       "    <tr>\n",
       "      <th>2</th>\n",
       "      <td>gender_Non-Male ID</td>\n",
       "      <td>1.55</td>\n",
       "    </tr>\n",
       "    <tr>\n",
       "      <th>17</th>\n",
       "      <td>company_type_Funded Startup</td>\n",
       "      <td>1.50</td>\n",
       "    </tr>\n",
       "    <tr>\n",
       "      <th>8</th>\n",
       "      <td>education_level_Masters</td>\n",
       "      <td>1.34</td>\n",
       "    </tr>\n",
       "    <tr>\n",
       "      <th>22</th>\n",
       "      <td>last_new_job_2</td>\n",
       "      <td>1.31</td>\n",
       "    </tr>\n",
       "    <tr>\n",
       "      <th>0</th>\n",
       "      <td>city_development_index</td>\n",
       "      <td>1.28</td>\n",
       "    </tr>\n",
       "    <tr>\n",
       "      <th>18</th>\n",
       "      <td>company_type_NGO</td>\n",
       "      <td>1.24</td>\n",
       "    </tr>\n",
       "    <tr>\n",
       "      <th>5</th>\n",
       "      <td>enrolled_university_Part time course</td>\n",
       "      <td>1.22</td>\n",
       "    </tr>\n",
       "    <tr>\n",
       "      <th>9</th>\n",
       "      <td>education_level_Other</td>\n",
       "      <td>1.21</td>\n",
       "    </tr>\n",
       "    <tr>\n",
       "      <th>11</th>\n",
       "      <td>education_level_Primary School</td>\n",
       "      <td>1.14</td>\n",
       "    </tr>\n",
       "    <tr>\n",
       "      <th>23</th>\n",
       "      <td>last_new_job_3</td>\n",
       "      <td>1.12</td>\n",
       "    </tr>\n",
       "    <tr>\n",
       "      <th>24</th>\n",
       "      <td>last_new_job_4</td>\n",
       "      <td>1.12</td>\n",
       "    </tr>\n",
       "    <tr>\n",
       "      <th>4</th>\n",
       "      <td>enrolled_university_Other</td>\n",
       "      <td>1.11</td>\n",
       "    </tr>\n",
       "    <tr>\n",
       "      <th>26</th>\n",
       "      <td>last_new_job_Other</td>\n",
       "      <td>1.09</td>\n",
       "    </tr>\n",
       "    <tr>\n",
       "      <th>10</th>\n",
       "      <td>education_level_Phd</td>\n",
       "      <td>1.08</td>\n",
       "    </tr>\n",
       "    <tr>\n",
       "      <th>1</th>\n",
       "      <td>training_hours</td>\n",
       "      <td>1.00</td>\n",
       "    </tr>\n",
       "  </tbody>\n",
       "</table>\n",
       "</div>"
      ],
      "text/plain": [
       "                                      Category   VIF\n",
       "21                        company_type_Pvt Ltd  6.54\n",
       "12                       major_discipline_STEM  6.46\n",
       "19                          company_type_Other  5.49\n",
       "6            enrolled_university_no_enrollment  4.34\n",
       "15                               experience_<5  2.89\n",
       "14                              experience_5-9  2.50\n",
       "3   relevent_experience_No relevent experience  2.27\n",
       "16                              experience_>20  1.97\n",
       "7                  education_level_High School  1.80\n",
       "25                             last_new_job_>4  1.64\n",
       "13                            experience_15-20  1.56\n",
       "20                  company_type_Public Sector  1.55\n",
       "27                          last_new_job_never  1.55\n",
       "2                           gender_Non-Male ID  1.55\n",
       "17                 company_type_Funded Startup  1.50\n",
       "8                      education_level_Masters  1.34\n",
       "22                              last_new_job_2  1.31\n",
       "0                       city_development_index  1.28\n",
       "18                            company_type_NGO  1.24\n",
       "5         enrolled_university_Part time course  1.22\n",
       "9                        education_level_Other  1.21\n",
       "11              education_level_Primary School  1.14\n",
       "23                              last_new_job_3  1.12\n",
       "24                              last_new_job_4  1.12\n",
       "4                    enrolled_university_Other  1.11\n",
       "26                          last_new_job_Other  1.09\n",
       "10                         education_level_Phd  1.08\n",
       "1                               training_hours  1.00"
      ]
     },
     "execution_count": 71,
     "metadata": {},
     "output_type": "execute_result"
    }
   ],
   "source": [
    "buildVIF(x1)"
   ]
  },
  {
   "cell_type": "code",
   "execution_count": 72,
   "metadata": {},
   "outputs": [
    {
     "name": "stdout",
     "output_type": "stream",
     "text": [
      "Optimization terminated successfully.\n",
      "         Current function value: 0.560784\n",
      "         Iterations 6\n"
     ]
    },
    {
     "data": {
      "text/html": [
       "<table class=\"simpletable\">\n",
       "<caption>Logit Regression Results</caption>\n",
       "<tr>\n",
       "  <th>Dep. Variable:</th>        <td>target</td>      <th>  No. Observations:  </th>  <td> 28762</td> \n",
       "</tr>\n",
       "<tr>\n",
       "  <th>Model:</th>                 <td>Logit</td>      <th>  Df Residuals:      </th>  <td> 28748</td> \n",
       "</tr>\n",
       "<tr>\n",
       "  <th>Method:</th>                 <td>MLE</td>       <th>  Df Model:          </th>  <td>    13</td> \n",
       "</tr>\n",
       "<tr>\n",
       "  <th>Date:</th>            <td>Thu, 25 Feb 2021</td> <th>  Pseudo R-squ.:     </th>  <td>0.1910</td> \n",
       "</tr>\n",
       "<tr>\n",
       "  <th>Time:</th>                <td>10:20:33</td>     <th>  Log-Likelihood:    </th> <td> -16129.</td>\n",
       "</tr>\n",
       "<tr>\n",
       "  <th>converged:</th>             <td>True</td>       <th>  LL-Null:           </th> <td> -19936.</td>\n",
       "</tr>\n",
       "<tr>\n",
       "  <th>Covariance Type:</th>     <td>nonrobust</td>    <th>  LLR p-value:       </th>  <td> 0.000</td> \n",
       "</tr>\n",
       "</table>\n",
       "<table class=\"simpletable\">\n",
       "<tr>\n",
       "                    <td></td>                      <th>coef</th>     <th>std err</th>      <th>z</th>      <th>P>|z|</th>  <th>[0.025</th>    <th>0.975]</th>  \n",
       "</tr>\n",
       "<tr>\n",
       "  <th>const</th>                                <td>    1.3382</td> <td>    0.034</td> <td>   39.262</td> <td> 0.000</td> <td>    1.271</td> <td>    1.405</td>\n",
       "</tr>\n",
       "<tr>\n",
       "  <th>city_development_index</th>               <td>   -0.7516</td> <td>    0.013</td> <td>  -56.302</td> <td> 0.000</td> <td>   -0.778</td> <td>   -0.725</td>\n",
       "</tr>\n",
       "<tr>\n",
       "  <th>enrolled_university_Other</th>            <td>   -1.1351</td> <td>    0.113</td> <td>  -10.089</td> <td> 0.000</td> <td>   -1.356</td> <td>   -0.915</td>\n",
       "</tr>\n",
       "<tr>\n",
       "  <th>enrolled_university_Part time course</th> <td>   -0.8740</td> <td>    0.065</td> <td>  -13.470</td> <td> 0.000</td> <td>   -1.001</td> <td>   -0.747</td>\n",
       "</tr>\n",
       "<tr>\n",
       "  <th>enrolled_university_no_enrollment</th>    <td>   -0.6004</td> <td>    0.034</td> <td>  -17.531</td> <td> 0.000</td> <td>   -0.668</td> <td>   -0.533</td>\n",
       "</tr>\n",
       "<tr>\n",
       "  <th>education_level_High School</th>          <td>   -1.2329</td> <td>    0.051</td> <td>  -24.119</td> <td> 0.000</td> <td>   -1.333</td> <td>   -1.133</td>\n",
       "</tr>\n",
       "<tr>\n",
       "  <th>education_level_Masters</th>              <td>   -0.5172</td> <td>    0.034</td> <td>  -15.024</td> <td> 0.000</td> <td>   -0.585</td> <td>   -0.450</td>\n",
       "</tr>\n",
       "<tr>\n",
       "  <th>education_level_Other</th>                <td>   -1.4195</td> <td>    0.104</td> <td>  -13.673</td> <td> 0.000</td> <td>   -1.623</td> <td>   -1.216</td>\n",
       "</tr>\n",
       "<tr>\n",
       "  <th>education_level_Phd</th>                  <td>   -0.9928</td> <td>    0.126</td> <td>   -7.886</td> <td> 0.000</td> <td>   -1.239</td> <td>   -0.746</td>\n",
       "</tr>\n",
       "<tr>\n",
       "  <th>education_level_Primary School</th>       <td>   -2.0986</td> <td>    0.151</td> <td>  -13.909</td> <td> 0.000</td> <td>   -2.394</td> <td>   -1.803</td>\n",
       "</tr>\n",
       "<tr>\n",
       "  <th>company_type_Funded Startup</th>          <td>   -1.6392</td> <td>    0.073</td> <td>  -22.324</td> <td> 0.000</td> <td>   -1.783</td> <td>   -1.495</td>\n",
       "</tr>\n",
       "<tr>\n",
       "  <th>company_type_NGO</th>                     <td>   -1.5790</td> <td>    0.101</td> <td>  -15.618</td> <td> 0.000</td> <td>   -1.777</td> <td>   -1.381</td>\n",
       "</tr>\n",
       "<tr>\n",
       "  <th>company_type_Public Sector</th>           <td>   -0.8241</td> <td>    0.067</td> <td>  -12.359</td> <td> 0.000</td> <td>   -0.955</td> <td>   -0.693</td>\n",
       "</tr>\n",
       "<tr>\n",
       "  <th>company_type_Pvt Ltd</th>                 <td>   -1.2281</td> <td>    0.031</td> <td>  -40.192</td> <td> 0.000</td> <td>   -1.288</td> <td>   -1.168</td>\n",
       "</tr>\n",
       "</table>"
      ],
      "text/plain": [
       "<class 'statsmodels.iolib.summary.Summary'>\n",
       "\"\"\"\n",
       "                           Logit Regression Results                           \n",
       "==============================================================================\n",
       "Dep. Variable:                 target   No. Observations:                28762\n",
       "Model:                          Logit   Df Residuals:                    28748\n",
       "Method:                           MLE   Df Model:                           13\n",
       "Date:                Thu, 25 Feb 2021   Pseudo R-squ.:                  0.1910\n",
       "Time:                        10:20:33   Log-Likelihood:                -16129.\n",
       "converged:                       True   LL-Null:                       -19936.\n",
       "Covariance Type:            nonrobust   LLR p-value:                     0.000\n",
       "========================================================================================================\n",
       "                                           coef    std err          z      P>|z|      [0.025      0.975]\n",
       "--------------------------------------------------------------------------------------------------------\n",
       "const                                    1.3382      0.034     39.262      0.000       1.271       1.405\n",
       "city_development_index                  -0.7516      0.013    -56.302      0.000      -0.778      -0.725\n",
       "enrolled_university_Other               -1.1351      0.113    -10.089      0.000      -1.356      -0.915\n",
       "enrolled_university_Part time course    -0.8740      0.065    -13.470      0.000      -1.001      -0.747\n",
       "enrolled_university_no_enrollment       -0.6004      0.034    -17.531      0.000      -0.668      -0.533\n",
       "education_level_High School             -1.2329      0.051    -24.119      0.000      -1.333      -1.133\n",
       "education_level_Masters                 -0.5172      0.034    -15.024      0.000      -0.585      -0.450\n",
       "education_level_Other                   -1.4195      0.104    -13.673      0.000      -1.623      -1.216\n",
       "education_level_Phd                     -0.9928      0.126     -7.886      0.000      -1.239      -0.746\n",
       "education_level_Primary School          -2.0986      0.151    -13.909      0.000      -2.394      -1.803\n",
       "company_type_Funded Startup             -1.6392      0.073    -22.324      0.000      -1.783      -1.495\n",
       "company_type_NGO                        -1.5790      0.101    -15.618      0.000      -1.777      -1.381\n",
       "company_type_Public Sector              -0.8241      0.067    -12.359      0.000      -0.955      -0.693\n",
       "company_type_Pvt Ltd                    -1.2281      0.031    -40.192      0.000      -1.288      -1.168\n",
       "========================================================================================================\n",
       "\"\"\""
      ]
     },
     "metadata": {},
     "output_type": "display_data"
    }
   ],
   "source": [
    "x2 = Xrfe\n",
    "hrModel2 = buildLogit(x2, Ysm)"
   ]
  },
  {
   "cell_type": "code",
   "execution_count": 73,
   "metadata": {},
   "outputs": [
    {
     "data": {
      "text/html": [
       "<div>\n",
       "<style scoped>\n",
       "    .dataframe tbody tr th:only-of-type {\n",
       "        vertical-align: middle;\n",
       "    }\n",
       "\n",
       "    .dataframe tbody tr th {\n",
       "        vertical-align: top;\n",
       "    }\n",
       "\n",
       "    .dataframe thead th {\n",
       "        text-align: right;\n",
       "    }\n",
       "</style>\n",
       "<table border=\"1\" class=\"dataframe\">\n",
       "  <thead>\n",
       "    <tr style=\"text-align: right;\">\n",
       "      <th></th>\n",
       "      <th>Category</th>\n",
       "      <th>VIF</th>\n",
       "    </tr>\n",
       "  </thead>\n",
       "  <tbody>\n",
       "    <tr>\n",
       "      <th>3</th>\n",
       "      <td>enrolled_university_no_enrollment</td>\n",
       "      <td>2.36</td>\n",
       "    </tr>\n",
       "    <tr>\n",
       "      <th>12</th>\n",
       "      <td>company_type_Pvt Ltd</td>\n",
       "      <td>2.06</td>\n",
       "    </tr>\n",
       "    <tr>\n",
       "      <th>5</th>\n",
       "      <td>education_level_Masters</td>\n",
       "      <td>1.28</td>\n",
       "    </tr>\n",
       "    <tr>\n",
       "      <th>9</th>\n",
       "      <td>company_type_Funded Startup</td>\n",
       "      <td>1.10</td>\n",
       "    </tr>\n",
       "    <tr>\n",
       "      <th>2</th>\n",
       "      <td>enrolled_university_Part time course</td>\n",
       "      <td>1.09</td>\n",
       "    </tr>\n",
       "    <tr>\n",
       "      <th>11</th>\n",
       "      <td>company_type_Public Sector</td>\n",
       "      <td>1.09</td>\n",
       "    </tr>\n",
       "    <tr>\n",
       "      <th>1</th>\n",
       "      <td>enrolled_university_Other</td>\n",
       "      <td>1.07</td>\n",
       "    </tr>\n",
       "    <tr>\n",
       "      <th>6</th>\n",
       "      <td>education_level_Other</td>\n",
       "      <td>1.07</td>\n",
       "    </tr>\n",
       "    <tr>\n",
       "      <th>7</th>\n",
       "      <td>education_level_Phd</td>\n",
       "      <td>1.05</td>\n",
       "    </tr>\n",
       "    <tr>\n",
       "      <th>4</th>\n",
       "      <td>education_level_High School</td>\n",
       "      <td>1.04</td>\n",
       "    </tr>\n",
       "    <tr>\n",
       "      <th>10</th>\n",
       "      <td>company_type_NGO</td>\n",
       "      <td>1.04</td>\n",
       "    </tr>\n",
       "    <tr>\n",
       "      <th>0</th>\n",
       "      <td>city_development_index</td>\n",
       "      <td>1.03</td>\n",
       "    </tr>\n",
       "    <tr>\n",
       "      <th>8</th>\n",
       "      <td>education_level_Primary School</td>\n",
       "      <td>1.02</td>\n",
       "    </tr>\n",
       "  </tbody>\n",
       "</table>\n",
       "</div>"
      ],
      "text/plain": [
       "                                Category   VIF\n",
       "3      enrolled_university_no_enrollment  2.36\n",
       "12                  company_type_Pvt Ltd  2.06\n",
       "5                education_level_Masters  1.28\n",
       "9            company_type_Funded Startup  1.10\n",
       "2   enrolled_university_Part time course  1.09\n",
       "11            company_type_Public Sector  1.09\n",
       "1              enrolled_university_Other  1.07\n",
       "6                  education_level_Other  1.07\n",
       "7                    education_level_Phd  1.05\n",
       "4            education_level_High School  1.04\n",
       "10                      company_type_NGO  1.04\n",
       "0                 city_development_index  1.03\n",
       "8         education_level_Primary School  1.02"
      ]
     },
     "execution_count": 73,
     "metadata": {},
     "output_type": "execute_result"
    }
   ],
   "source": [
    "buildVIF(x2)"
   ]
  },
  {
   "cell_type": "code",
   "execution_count": 74,
   "metadata": {},
   "outputs": [],
   "source": [
    "x1_train, x1_val, y1_train, y1_val = train_test_split(Xrfe, Ysm, test_size = 0.3, random_state = 12)\n",
    "\n",
    "timedResultList = []"
   ]
  },
  {
   "cell_type": "code",
   "execution_count": 75,
   "metadata": {},
   "outputs": [
    {
     "name": "stdout",
     "output_type": "stream",
     "text": [
      "Time: 0.66 seconds\n",
      "Accuracy score of the train set: 0.7381910296528088\n",
      "Accuracy score of the valuation set: 0.7358906014601924\n"
     ]
    }
   ],
   "source": [
    "start = time.time()\n",
    "timeResultsData = []\n",
    "\n",
    "logXrfe = LogisticRegressionCV(Cs = 10, cv = 5, random_state = 12).fit(x1_train, y1_train)\n",
    "\n",
    "y1_train_pred = logXrfe.predict(x1_train)\n",
    "y1_val_pred = logXrfe.predict(x1_val)\n",
    "trainScore = accuracy_score(y1_train, y1_train_pred)\n",
    "valScore = accuracy_score(y1_val, y1_val_pred)\n",
    "\n",
    "end = time.time()\n",
    "timeResultsData.append('Log Reg')\n",
    "timeResultsData.append(trainScore)\n",
    "timeResultsData.append(valScore)\n",
    "totalTime = round(end - start,2)\n",
    "timeResultsData.append(totalTime)\n",
    "timedResultList.append(timeResultsData)\n",
    "\n",
    "print(f\"Time: {totalTime} seconds\")\n",
    "print(f\"Accuracy score of the train set: {trainScore}\")\n",
    "print(f\"Accuracy score of the valuation set: {valScore}\")"
   ]
  },
  {
   "cell_type": "markdown",
   "metadata": {},
   "source": [
    "Support Vector Machine"
   ]
  },
  {
   "cell_type": "code",
   "execution_count": 76,
   "metadata": {},
   "outputs": [
    {
     "name": "stdout",
     "output_type": "stream",
     "text": [
      "Time: 36.97 seconds\n",
      "Accuracy score of the train set: 0.7381910296528088\n",
      "Accuracy score of the valuation set: 0.7358906014601924\n"
     ]
    }
   ],
   "source": [
    "start = time.time()\n",
    "timeResultsData = []\n",
    "\n",
    "svcXrfe = SVC(C = 10, random_state = 12).fit(x1_train, y1_train)\n",
    "\n",
    "y1_train_pred = logXrfe.predict(x1_train)\n",
    "y1_val_pred = logXrfe.predict(x1_val)\n",
    "trainScore = accuracy_score(y1_train, y1_train_pred)\n",
    "valScore = accuracy_score(y1_val, y1_val_pred)\n",
    "\n",
    "end = time.time()\n",
    "timeResultsData.append('SVC')\n",
    "timeResultsData.append(trainScore)\n",
    "timeResultsData.append(valScore)\n",
    "totalTime = round(end - start,2)\n",
    "timeResultsData.append(totalTime)\n",
    "timedResultList.append(timeResultsData)\n",
    "\n",
    "print(f\"Time: {totalTime} seconds\")\n",
    "print(f\"Accuracy score of the train set: {trainScore}\")\n",
    "print(f\"Accuracy score of the valuation set: {valScore}\")"
   ]
  },
  {
   "cell_type": "code",
   "execution_count": 77,
   "metadata": {},
   "outputs": [
    {
     "name": "stdout",
     "output_type": "stream",
     "text": [
      "Time: 2.18 seconds\n",
      "Accuracy score of the train set: 0.8101127502110962\n",
      "Accuracy score of the valuation set: 0.7876926642716421\n"
     ]
    }
   ],
   "source": [
    "start = time.time()\n",
    "timeResultsData = []\n",
    "\n",
    "knnXrfe = KNeighborsClassifier().fit(x1_train, y1_train)\n",
    "\n",
    "y1_train_pred = knnXrfe.predict(x1_train)\n",
    "y1_val_pred = knnXrfe.predict(x1_val)\n",
    "trainScore = accuracy_score(y1_train, y1_train_pred)\n",
    "valScore = accuracy_score(y1_val, y1_val_pred)\n",
    "\n",
    "end = time.time()\n",
    "timeResultsData.append('KNN')\n",
    "timeResultsData.append(trainScore)\n",
    "timeResultsData.append(valScore)\n",
    "totalTime = round(end - start,2)\n",
    "timeResultsData.append(totalTime)\n",
    "timedResultList.append(timeResultsData)\n",
    "\n",
    "print(f\"Time: {totalTime} seconds\")\n",
    "print(f\"Accuracy score of the train set: {trainScore}\")\n",
    "print(f\"Accuracy score of the valuation set: {valScore}\")"
   ]
  },
  {
   "cell_type": "code",
   "execution_count": 90,
   "metadata": {},
   "outputs": [
    {
     "name": "stdout",
     "output_type": "stream",
     "text": [
      "K=20101/20133\r"
     ]
    }
   ],
   "source": [
    "train_accuracies = []\n",
    "test_accuracies = []\n",
    "K_values = []\n",
    "\n",
    "if (os.path.exists('trainAccuracies.joblib') & os.path.exists('testAccuracies.joblib') & os.path.exists('kValues.joblib')):\n",
    "    train_accuracies = load('trainAccuracies.joblib')\n",
    "    test_accuracies = load('testAccuracies.joblib')\n",
    "    K_values = load('kValues.joblib')\n",
    "else:\n",
    "    for k in range(1, x1_train.shape[0],100):\n",
    "\n",
    "        knnXrfe = KNeighborsClassifier(n_neighbors=k).fit(x1_train, y1_train)\n",
    "\n",
    "        y_train_pred = knnXrfe.predict(x1_train)\n",
    "        y_test_pred = knnXrfe.predict(x1_val)\n",
    "\n",
    "        train_accuracies.append(accuracy_score(y1_train, y_train_pred))\n",
    "        test_accuracies.append(accuracy_score(y1_val, y_test_pred))\n",
    "        K_values.append(k)\n",
    "\n",
    "        print(f\"K={k}/{x1_train.shape[0]}\", end=\"\\r\")\n",
    "    \n",
    "    joblib.dump(train_accuracies, 'trainAccuracies.joblib')\n",
    "    joblib.dump(test_accuracies, 'testAccuracies.joblib')\n",
    "    joblib.dump(K_values, 'kValues.joblib')"
   ]
  },
  {
   "cell_type": "code",
   "execution_count": 91,
   "metadata": {},
   "outputs": [
    {
     "data": {
      "image/png": "[encoded data removed]",
      "text/plain": [
       "<Figure size 1080x504 with 1 Axes>"
      ]
     },
     "metadata": {
      "needs_background": "light"
     },
     "output_type": "display_data"
    }
   ],
   "source": [
    "plt.figure(figsize=(15,7))\n",
    "plt.plot(K_values, train_accuracies, label=\"train\", c=\"red\")\n",
    "plt.plot(K_values, test_accuracies, label=\"val\", c=\"blue\")\n",
    "plt.xlabel(\"K (number of neighbors)\")\n",
    "plt.ylabel(\"Accuracy Score\")\n",
    "plt.title(\"KNN Performance Over Different Values of K\")\n",
    "plt.legend()\n",
    "plt.show()"
   ]
  },
  {
   "cell_type": "code",
   "execution_count": 78,
   "metadata": {},
   "outputs": [
    {
     "data": {
      "text/html": [
       "<div>\n",
       "<style scoped>\n",
       "    .dataframe tbody tr th:only-of-type {\n",
       "        vertical-align: middle;\n",
       "    }\n",
       "\n",
       "    .dataframe tbody tr th {\n",
       "        vertical-align: top;\n",
       "    }\n",
       "\n",
       "    .dataframe thead th {\n",
       "        text-align: right;\n",
       "    }\n",
       "</style>\n",
       "<table border=\"1\" class=\"dataframe\">\n",
       "  <thead>\n",
       "    <tr style=\"text-align: right;\">\n",
       "      <th></th>\n",
       "      <th>0</th>\n",
       "      <th>1</th>\n",
       "      <th>2</th>\n",
       "      <th>3</th>\n",
       "    </tr>\n",
       "  </thead>\n",
       "  <tbody>\n",
       "    <tr>\n",
       "      <th>0</th>\n",
       "      <td>Log Reg</td>\n",
       "      <td>0.738191</td>\n",
       "      <td>0.735891</td>\n",
       "      <td>0.66</td>\n",
       "    </tr>\n",
       "    <tr>\n",
       "      <th>1</th>\n",
       "      <td>SVC</td>\n",
       "      <td>0.738191</td>\n",
       "      <td>0.735891</td>\n",
       "      <td>36.97</td>\n",
       "    </tr>\n",
       "    <tr>\n",
       "      <th>2</th>\n",
       "      <td>KNN</td>\n",
       "      <td>0.810113</td>\n",
       "      <td>0.787693</td>\n",
       "      <td>2.18</td>\n",
       "    </tr>\n",
       "  </tbody>\n",
       "</table>\n",
       "</div>"
      ],
      "text/plain": [
       "         0         1         2      3\n",
       "0  Log Reg  0.738191  0.735891   0.66\n",
       "1      SVC  0.738191  0.735891  36.97\n",
       "2      KNN  0.810113  0.787693   2.18"
      ]
     },
     "execution_count": 78,
     "metadata": {},
     "output_type": "execute_result"
    }
   ],
   "source": [
    "timeDF = pd.DataFrame(timedResultList)\n",
    "timeDF"
   ]
  }
 ],
 "metadata": {
  "kernelspec": {
   "display_name": "Python 3",
   "language": "python",
   "name": "python3"
  },
  "language_info": {
   "codemirror_mode": {
    "name": "ipython",
    "version": 3
   },
   "file_extension": ".py",
   "mimetype": "text/x-python",
   "name": "python",
   "nbconvert_exporter": "python",
   "pygments_lexer": "ipython3",
   "version": "3.8.3"
  }
 },
 "nbformat": 4,
 "nbformat_minor": 4
}
